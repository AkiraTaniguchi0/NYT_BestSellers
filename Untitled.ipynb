{
 "cells": [
  {
   "cell_type": "code",
   "execution_count": 1,
   "id": "38b0b5e0",
   "metadata": {},
   "outputs": [],
   "source": [
    "import requests\n",
    "from bs4 import BeautifulSoup\n",
    "import pandas as pd\n",
    "import wikipedia as wp\n",
    "import re"
   ]
  },
  {
   "cell_type": "code",
   "execution_count": null,
   "id": "4e47003d",
   "metadata": {},
   "outputs": [],
   "source": [
    "NYTBestSellers = wp.page(\"Lists of The New York Times number-one books\")\n",
    "links = NYTBestSellers.links"
   ]
  },
  {
   "cell_type": "code",
   "execution_count": null,
   "id": "dbe9f331",
   "metadata": {},
   "outputs": [],
   "source": [
    "r = re.compile(\"List of The New York Times number-one books of \")\n",
    "linksList = list(filter(r.match, links)) # Read Note below"
   ]
  },
  {
   "cell_type": "code",
   "execution_count": 2,
   "id": "77a64ac4",
   "metadata": {},
   "outputs": [
    {
     "ename": "NameError",
     "evalue": "name 'linksList' is not defined",
     "output_type": "error",
     "traceback": [
      "\u001b[1;31m---------------------------------------------------------------------------\u001b[0m",
      "\u001b[1;31mNameError\u001b[0m                                 Traceback (most recent call last)",
      "Cell \u001b[1;32mIn[2], line 1\u001b[0m\n\u001b[1;32m----> 1\u001b[0m test \u001b[38;5;241m=\u001b[39m \u001b[43mlinksList\u001b[49m[\u001b[38;5;241m0\u001b[39m]\n\u001b[0;32m      2\u001b[0m matches \u001b[38;5;241m=\u001b[39m re\u001b[38;5;241m.\u001b[39mfindall(\u001b[38;5;124mr\u001b[39m\u001b[38;5;124m\"\u001b[39m\u001b[38;5;124m.\u001b[39m\u001b[38;5;132;01m{4}\u001b[39;00m\u001b[38;5;124m$\u001b[39m\u001b[38;5;124m\"\u001b[39m, test)\n\u001b[0;32m      3\u001b[0m \u001b[38;5;28mprint\u001b[39m(matches)\n",
      "\u001b[1;31mNameError\u001b[0m: name 'linksList' is not defined"
     ]
    }
   ],
   "source": [
    "test = linksList[0]\n",
    "matches = re.findall(r\".{4}$\", test)\n",
    "print(matches)"
   ]
  },
  {
   "cell_type": "code",
   "execution_count": 3,
   "id": "f90d2e9c",
   "metadata": {},
   "outputs": [
    {
     "data": {
      "text/plain": [
       "'https://en.wikipedia.org/wiki/Lists_of_The_New_York_Times_number-one_books'"
      ]
     },
     "execution_count": 3,
     "metadata": {},
     "output_type": "execute_result"
    }
   ],
   "source": [
    " wp.page('List of The New York Times number-one books of 1931').url"
   ]
  },
  {
   "cell_type": "code",
   "execution_count": null,
   "id": "a4894587",
   "metadata": {},
   "outputs": [],
   "source": [
    "wp.search('List of The New York Times number-one books of 1931')"
   ]
  },
  {
   "cell_type": "code",
   "execution_count": null,
   "id": "9fab40c1",
   "metadata": {},
   "outputs": [],
   "source": [
    "testing = wp.page(linksList[0])\n",
    "print(testing.sections)"
   ]
  },
  {
   "cell_type": "code",
   "execution_count": null,
   "id": "95fa7196",
   "metadata": {},
   "outputs": [],
   "source": [
    "testing.content"
   ]
  },
  {
   "cell_type": "code",
   "execution_count": null,
   "id": "90bb690f",
   "metadata": {},
   "outputs": [],
   "source": [
    "html = wp.page(linksList[0]).html().encode(\"UTF-8\")\n"
   ]
  },
  {
   "cell_type": "code",
   "execution_count": null,
   "id": "0ec5570d",
   "metadata": {},
   "outputs": [],
   "source": [
    "urlHead = 'https://en.wikipedia.org/wiki/List_of_The_New_York_Times_number-one_books_of_'\n",
    "year = list(range(1973, 2024))\n",
    "urls = [urlHead + str(x) for x in year]"
   ]
  },
  {
   "cell_type": "code",
   "execution_count": null,
   "id": "0c53ad48",
   "metadata": {},
   "outputs": [],
   "source": [
    "df = pd.read_html(\"https://en.wikipedia.org/wiki/List_of_The_New_York_Times_number-one_books_of_2011\") "
   ]
  }
 ],
 "metadata": {
  "kernelspec": {
   "display_name": "Python 3 (ipykernel)",
   "language": "python",
   "name": "python3"
  },
  "language_info": {
   "codemirror_mode": {
    "name": "ipython",
    "version": 3
   },
   "file_extension": ".py",
   "mimetype": "text/x-python",
   "name": "python",
   "nbconvert_exporter": "python",
   "pygments_lexer": "ipython3",
   "version": "3.10.12"
  }
 },
 "nbformat": 4,
 "nbformat_minor": 5
}
