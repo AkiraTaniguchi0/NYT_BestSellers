{
 "cells": [
  {
   "cell_type": "code",
   "execution_count": 1,
   "id": "16dd66be",
   "metadata": {},
   "outputs": [],
   "source": [
    "import requests\n",
    "from bs4 import BeautifulSoup\n",
    "import pandas as pd\n",
    "import wikipedia as wp\n",
    "import re"
   ]
  },
  {
   "cell_type": "code",
   "execution_count": 2,
   "id": "0bb98e30",
   "metadata": {},
   "outputs": [
    {
     "name": "stdout",
     "output_type": "stream",
     "text": [
      "['Lists of The New York Times number-one books', 'List of The New York Times number-one books of 2024', 'List of The New York Times number-one books of 2023', 'List of The New York Times number-one books of 2022', 'List of The New York Times number-one books of 2021', 'List of The New York Times number-one books of 2020', 'List of The New York Times number-one books of 2010', 'List of The New York Times number-one books of 2017', 'List of The New York Times number-one books of 2019', 'List of The New York Times number-one books of 2000']\n"
     ]
    }
   ],
   "source": [
    "print(wp.search(\"Lists of The New York Times number-one books\"))"
   ]
  },
  {
   "cell_type": "code",
   "execution_count": 4,
   "id": "3a1fdec8",
   "metadata": {},
   "outputs": [],
   "source": [
    "NYTBestSellers = wp.page(\"Lists of The New York Times number-one books\")\n",
    "links = NYTBestSellers.links"
   ]
  },
  {
   "cell_type": "code",
   "execution_count": 6,
   "id": "f64fa6e1",
   "metadata": {},
   "outputs": [],
   "source": [
    "r = re.compile(\"List of The New York Times number-one books of \")\n",
    "linksList = list(filter(r.match, links)) # Read Note below"
   ]
  },
  {
   "cell_type": "code",
   "execution_count": 7,
   "id": "ae3fac04",
   "metadata": {},
   "outputs": [
    {
     "name": "stdout",
     "output_type": "stream",
     "text": [
      "['1931']\n"
     ]
    }
   ],
   "source": []
  },
  {
   "cell_type": "code",
   "execution_count": 43,
   "id": "e9870d8a",
   "metadata": {},
   "outputs": [
    {
     "data": {
      "text/plain": [
       "'List of The New York Times number-one books of 1931'"
      ]
     },
     "execution_count": 43,
     "metadata": {},
     "output_type": "execute_result"
    }
   ],
   "source": [
    "linksList[0]"
   ]
  },
  {
   "cell_type": "code",
   "execution_count": 44,
   "id": "250d907b",
   "metadata": {},
   "outputs": [
    {
     "data": {
      "text/plain": [
       "'https://en.wikipedia.org/wiki/Lists_of_The_New_York_Times_number-one_books'"
      ]
     },
     "execution_count": 44,
     "metadata": {},
     "output_type": "execute_result"
    }
   ],
   "source": [
    " wp.page('List of The New York Times number-one books of 1931').url"
   ]
  },
  {
   "cell_type": "code",
   "execution_count": 45,
   "id": "20d6bca6",
   "metadata": {},
   "outputs": [
    {
     "data": {
      "text/plain": [
       "['Lists of The New York Times number-one books',\n",
       " 'List of The New York Times number-one books of 1931',\n",
       " 'List of The New York Times number-one books of 1934',\n",
       " 'List of The New York Times number-one books of 1935',\n",
       " 'List of The New York Times number-one books of 1932',\n",
       " 'List of The New York Times number-one books of 1939',\n",
       " 'The New York Times Best Seller list',\n",
       " 'List of The New York Times number-one books of 1942',\n",
       " 'List of The New York Times number-one books of 1940',\n",
       " 'List of The New York Times number-one books of 1936']"
      ]
     },
     "execution_count": 45,
     "metadata": {},
     "output_type": "execute_result"
    }
   ],
   "source": [
    "wp.search('List of The New York Times number-one books of 1931')"
   ]
  },
  {
   "cell_type": "code",
   "execution_count": 19,
   "id": "9ab8dce7",
   "metadata": {},
   "outputs": [
    {
     "name": "stdout",
     "output_type": "stream",
     "text": [
      "[]\n"
     ]
    }
   ],
   "source": [
    "testing = wp.page(linksList[0])\n",
    "print(testing.sections)"
   ]
  },
  {
   "cell_type": "code",
   "execution_count": 30,
   "id": "77ed7393",
   "metadata": {},
   "outputs": [
    {
     "data": {
      "text/plain": [
       "'This is a list of lists by year of The New York Times number-one books.\\nThe New York Times Best Seller list was first published without fanfare on October 12, 1931. It consisted of five fiction and four nonfiction for the New York City region only. The following month the list was expanded to eight cities, with a separate list for each city. By the early 1940s, fourteen cities were included. A national list was created August 9, 1942, in The New York Times Book Review (Sundays) as a supplement to the regular paper\\'s city lists (Monday edition). The national list ranked by weighting how many times the book appeared in each city list. A few years later, the city lists were eliminated leaving only the national rankings, which was compiled according to \"reports from leading booksellers in 22 cities,\" a system which remains essentially unchanged to this day (though the specifics have changed).\\nA separate category for \"Advice, How-To and Miscellaneous\" books was created January 1, 1984. Its number one bestseller (The Body Principal by Victoria Principal) had been number ten and number twelve on the nonfiction lists for the two preceding weeks.\\n\\n\\n== By year ==\\n(links are to lists of the New York Times fiction best sellers of each year)\\n\\n\\n== See also ==\\n\\nBooks in the United States\\nPublishers Weekly lists of bestselling novels in the United States\\n\\n\\n== References =='"
      ]
     },
     "execution_count": 30,
     "metadata": {},
     "output_type": "execute_result"
    }
   ],
   "source": [
    "testing.content"
   ]
  },
  {
   "cell_type": "code",
   "execution_count": 9,
   "id": "24d2da91",
   "metadata": {},
   "outputs": [],
   "source": []
  },
  {
   "cell_type": "code",
   "execution_count": 28,
   "id": "d2136842",
   "metadata": {},
   "outputs": [
    {
     "data": {
      "text/plain": [
       "b'<div class=\"mw-content-ltr mw-parser-output\" lang=\"en\" dir=\"ltr\"><p>\\n\\n\\n\\nThis is a list of lists by year of <b><i>The New York Times</i> number-one books</b>.\\n</p><p><a href=\"/wiki/The_New_York_Times_Best_Seller_list\" title=\"The New York Times Best Seller list\"><i>The New York Times</i> Best Seller list</a> was first published without fanfare on October 12, 1931.<sup id=\"cite_ref-1\" class=\"reference\"><a href=\"#cite_note-1\"><span class=\"cite-bracket\">&#91;</span>1<span class=\"cite-bracket\">&#93;</span></a></sup><sup id=\"cite_ref-miller_2-0\" class=\"reference\"><a href=\"#cite_note-miller-2\"><span class=\"cite-bracket\">&#91;</span>2<span class=\"cite-bracket\">&#93;</span></a></sup> It consisted of five fiction and four nonfiction for the New York City region only.<sup id=\"cite_ref-miller_2-1\" class=\"reference\"><a href=\"#cite_note-miller-2\"><span class=\"cite-bracket\">&#91;</span>2<span class=\"cite-bracket\">&#93;</span></a></sup> The following month the list was expanded to eight cities, with a separate list for each city.<sup id=\"cite_ref-miller_2-2\" class=\"reference\"><a href=\"#cite_note-miller-2\"><span class=\"cite-bracket\">&#91;</span>2<span class=\"cite-bracket\">&#93;</span></a></sup> By the early 1940s, fourteen cities were included. A national list was created August 9, 1942, in <i><a href=\"/wiki/The_New_York_Times_Book_Review\" title=\"The New York Times Book Review\">The New York Times Book Review</a></i> (Sundays) as a supplement to the regular paper\\'s city lists (Monday edition).<sup id=\"cite_ref-miller_2-3\" class=\"reference\"><a href=\"#cite_note-miller-2\"><span class=\"cite-bracket\">&#91;</span>2<span class=\"cite-bracket\">&#93;</span></a></sup> The national list ranked by weighting how many times the book appeared in each city list.<sup id=\"cite_ref-miller_2-4\" class=\"reference\"><a href=\"#cite_note-miller-2\"><span class=\"cite-bracket\">&#91;</span>2<span class=\"cite-bracket\">&#93;</span></a></sup> A few years later,<sup class=\"noprint Inline-Template\" style=\"white-space:nowrap;\">&#91;<i><a href=\"/wiki/Wikipedia:Citing_sources\" title=\"Wikipedia:Citing sources\"><span title=\"Statement needs to be more specific about the content to which it refers. (January 2022)\">specify</span></a></i>&#93;</sup> the city lists were eliminated leaving only the national rankings, which was compiled according to \"reports from leading booksellers in 22 cities,\" a system which remains essentially unchanged to this day (though the specifics have changed).<sup id=\"cite_ref-miller_2-5\" class=\"reference\"><a href=\"#cite_note-miller-2\"><span class=\"cite-bracket\">&#91;</span>2<span class=\"cite-bracket\">&#93;</span></a></sup>\\n</p><p>A separate category for \"Advice, How-To and Miscellaneous\" books was created January 1, 1984. Its number one bestseller (<i>The Body Principal</i> by Victoria Principal) had been number ten and number twelve on the nonfiction lists for the two preceding weeks.<sup id=\"cite_ref-3\" class=\"reference\"><a href=\"#cite_note-3\"><span class=\"cite-bracket\">&#91;</span>3<span class=\"cite-bracket\">&#93;</span></a></sup>\\n</p>\\n<div class=\"mw-heading mw-heading2\"><h2 id=\"By_year\">By year</h2><span class=\"mw-editsection\"><span class=\"mw-editsection-bracket\">[</span><a href=\"/w/index.php?title=Lists_of_The_New_York_Times_number-one_books&amp;action=edit&amp;section=1\" title=\"Edit section: By year\"><span>edit</span></a><span class=\"mw-editsection-bracket\">]</span></span></div>\\n<p><i>(links are to lists of the New York Times fiction best sellers of each year)</i>\\n</p>\\n<style data-mw-deduplicate=\"TemplateStyles:r1126788409\">.mw-parser-output .plainlist ol,.mw-parser-output .plainlist ul{line-height:inherit;list-style:none;margin:0;padding:0}.mw-parser-output .plainlist ol li,.mw-parser-output .plainlist ul li{margin-bottom:0}</style><div class=\"plainlist\">\\n<style data-mw-deduplicate=\"TemplateStyles:r1184024115\">.mw-parser-output .div-col{margin-top:0.3em;column-width:30em}.mw-parser-output .div-col-small{font-size:90%}.mw-parser-output .div-col-rules{column-rule:1px solid #aaa}.mw-parser-output .div-col dl,.mw-parser-output .div-col ol,.mw-parser-output .div-col ul{margin-top:0}.mw-parser-output .div-col li,.mw-parser-output .div-col dd{page-break-inside:avoid;break-inside:avoid-column}</style><div class=\"div-col\" style=\"column-width: 3em;\">\\n<ul><li><a href=\"/wiki/List_of_The_New_York_Times_number-one_books_of_1931\" title=\"List of The New York Times number-one books of 1931\">1931</a></li>\\n<li><a href=\"/wiki/List_of_The_New_York_Times_number-one_books_of_1932\" title=\"List of The New York Times number-one books of 1932\">1932</a></li>\\n<li><a href=\"/wiki/List_of_The_New_York_Times_number-one_books_of_1933\" title=\"List of The New York Times number-one books of 1933\">1933</a></li>\\n<li><a href=\"/wiki/List_of_The_New_York_Times_number-one_books_of_1934\" title=\"List of The New York Times number-one books of 1934\">1934</a></li>\\n<li><a href=\"/wiki/List_of_The_New_York_Times_number-one_books_of_1935\" title=\"List of The New York Times number-one books of 1935\">1935</a></li>\\n<li><a href=\"/wiki/List_of_The_New_York_Times_number-one_books_of_1936\" title=\"List of The New York Times number-one books of 1936\">1936</a></li>\\n<li><a href=\"/wiki/List_of_The_New_York_Times_number-one_books_of_1937\" title=\"List of The New York Times number-one books of 1937\">1937</a></li>\\n<li><a href=\"/wiki/List_of_The_New_York_Times_number-one_books_of_1938\" title=\"List of The New York Times number-one books of 1938\">1938</a></li>\\n<li><a href=\"/wiki/List_of_The_New_York_Times_number-one_books_of_1939\" title=\"List of The New York Times number-one books of 1939\">1939</a></li>\\n<li><a href=\"/wiki/List_of_The_New_York_Times_number-one_books_of_1940\" title=\"List of The New York Times number-one books of 1940\">1940</a></li>\\n<li><a href=\"/wiki/List_of_The_New_York_Times_number-one_books_of_1941\" title=\"List of The New York Times number-one books of 1941\">1941</a></li>\\n<li><a href=\"/wiki/List_of_The_New_York_Times_number-one_books_of_1942\" title=\"List of The New York Times number-one books of 1942\">1942</a></li>\\n<li><a href=\"/wiki/List_of_The_New_York_Times_number-one_books_of_1943\" title=\"List of The New York Times number-one books of 1943\">1943</a></li>\\n<li><a href=\"/wiki/List_of_The_New_York_Times_number-one_books_of_1944\" title=\"List of The New York Times number-one books of 1944\">1944</a></li>\\n<li><a href=\"/wiki/List_of_The_New_York_Times_number-one_books_of_1945\" title=\"List of The New York Times number-one books of 1945\">1945</a></li>\\n<li><a href=\"/wiki/List_of_The_New_York_Times_number-one_books_of_1946\" title=\"List of The New York Times number-one books of 1946\">1946</a></li>\\n<li><a href=\"/wiki/List_of_The_New_York_Times_number-one_books_of_1947\" title=\"List of The New York Times number-one books of 1947\">1947</a></li>\\n<li><a href=\"/wiki/List_of_The_New_York_Times_number-one_books_of_1948\" title=\"List of The New York Times number-one books of 1948\">1948</a></li>\\n<li><a href=\"/wiki/List_of_The_New_York_Times_number-one_books_of_1949\" title=\"List of The New York Times number-one books of 1949\">1949</a></li>\\n<li><a href=\"/wiki/List_of_The_New_York_Times_number-one_books_of_1950\" title=\"List of The New York Times number-one books of 1950\">1950</a></li>\\n<li><a href=\"/wiki/List_of_The_New_York_Times_number-one_books_of_1951\" title=\"List of The New York Times number-one books of 1951\">1951</a></li>\\n<li><a href=\"/wiki/List_of_The_New_York_Times_number-one_books_of_1952\" title=\"List of The New York Times number-one books of 1952\">1952</a></li>\\n<li><a href=\"/wiki/List_of_The_New_York_Times_number-one_books_of_1953\" title=\"List of The New York Times number-one books of 1953\">1953</a></li>\\n<li><a href=\"/wiki/List_of_The_New_York_Times_number-one_books_of_1954\" title=\"List of The New York Times number-one books of 1954\">1954</a></li>\\n<li><a href=\"/wiki/List_of_The_New_York_Times_number-one_books_of_1955\" title=\"List of The New York Times number-one books of 1955\">1955</a></li>\\n<li><a href=\"/wiki/List_of_The_New_York_Times_number-one_books_of_1956\" title=\"List of The New York Times number-one books of 1956\">1956</a></li>\\n<li><a href=\"/wiki/List_of_The_New_York_Times_number-one_books_of_1957\" title=\"List of The New York Times number-one books of 1957\">1957</a></li>\\n<li><a href=\"/wiki/List_of_The_New_York_Times_number-one_books_of_1958\" title=\"List of The New York Times number-one books of 1958\">1958</a></li>\\n<li><a href=\"/wiki/List_of_The_New_York_Times_number-one_books_of_1959\" title=\"List of The New York Times number-one books of 1959\">1959</a></li>\\n<li><a href=\"/wiki/List_of_The_New_York_Times_number-one_books_of_1960\" title=\"List of The New York Times number-one books of 1960\">1960</a></li>\\n<li><a href=\"/wiki/List_of_The_New_York_Times_number-one_books_of_1961\" title=\"List of The New York Times number-one books of 1961\">1961</a></li>\\n<li><a href=\"/wiki/List_of_The_New_York_Times_number-one_books_of_1962\" title=\"List of The New York Times number-one books of 1962\">1962</a></li>\\n<li><a href=\"/wiki/List_of_The_New_York_Times_number-one_books_of_1963\" title=\"List of The New York Times number-one books of 1963\">1963</a></li>\\n<li><a href=\"/wiki/List_of_The_New_York_Times_number-one_books_of_1964\" title=\"List of The New York Times number-one books of 1964\">1964</a></li>\\n<li><a href=\"/wiki/List_of_The_New_York_Times_number-one_books_of_1965\" title=\"List of The New York Times number-one books of 1965\">1965</a></li>\\n<li><a href=\"/wiki/List_of_The_New_York_Times_number-one_books_of_1966\" title=\"List of The New York Times number-one books of 1966\">1966</a></li>\\n<li><a href=\"/wiki/List_of_The_New_York_Times_number-one_books_of_1967\" title=\"List of The New York Times number-one books of 1967\">1967</a></li>\\n<li><a href=\"/wiki/List_of_The_New_York_Times_number-one_books_of_1968\" title=\"List of The New York Times number-one books of 1968\">1968</a></li>\\n<li><a href=\"/wiki/List_of_The_New_York_Times_number-one_books_of_1969\" title=\"List of The New York Times number-one books of 1969\">1969</a></li>\\n<li><a href=\"/wiki/List_of_The_New_York_Times_number-one_books_of_1970\" title=\"List of The New York Times number-one books of 1970\">1970</a></li>\\n<li><a href=\"/wiki/List_of_The_New_York_Times_number-one_books_of_1971\" title=\"List of The New York Times number-one books of 1971\">1971</a></li>\\n<li><a href=\"/wiki/List_of_The_New_York_Times_number-one_books_of_1972\" title=\"List of The New York Times number-one books of 1972\">1972</a></li>\\n<li><a href=\"/wiki/List_of_The_New_York_Times_number-one_books_of_1973\" title=\"List of The New York Times number-one books of 1973\">1973</a></li>\\n<li><a href=\"/wiki/List_of_The_New_York_Times_number-one_books_of_1974\" title=\"List of The New York Times number-one books of 1974\">1974</a></li>\\n<li><a href=\"/wiki/List_of_The_New_York_Times_number-one_books_of_1975\" title=\"List of The New York Times number-one books of 1975\">1975</a></li>\\n<li><a href=\"/wiki/List_of_The_New_York_Times_number-one_books_of_1976\" title=\"List of The New York Times number-one books of 1976\">1976</a></li>\\n<li><a href=\"/wiki/List_of_The_New_York_Times_number-one_books_of_1977\" title=\"List of The New York Times number-one books of 1977\">1977</a></li>\\n<li><a href=\"/wiki/List_of_The_New_York_Times_number-one_books_of_1978\" title=\"List of The New York Times number-one books of 1978\">1978</a></li>\\n<li><a href=\"/wiki/List_of_The_New_York_Times_number-one_books_of_1979\" title=\"List of The New York Times number-one books of 1979\">1979</a></li>\\n<li><a href=\"/wiki/List_of_The_New_York_Times_number-one_books_of_1980\" title=\"List of The New York Times number-one books of 1980\">1980</a></li>\\n<li><a href=\"/wiki/List_of_The_New_York_Times_number-one_books_of_1981\" title=\"List of The New York Times number-one books of 1981\">1981</a></li>\\n<li><a href=\"/wiki/List_of_The_New_York_Times_number-one_books_of_1982\" title=\"List of The New York Times number-one books of 1982\">1982</a></li>\\n<li><a href=\"/wiki/List_of_The_New_York_Times_number-one_books_of_1983\" title=\"List of The New York Times number-one books of 1983\">1983</a></li>\\n<li><a href=\"/wiki/List_of_The_New_York_Times_number-one_books_of_1984\" title=\"List of The New York Times number-one books of 1984\">1984</a></li>\\n<li><a href=\"/wiki/List_of_The_New_York_Times_number-one_books_of_1985\" title=\"List of The New York Times number-one books of 1985\">1985</a></li>\\n<li><a href=\"/wiki/List_of_The_New_York_Times_number-one_books_of_1986\" title=\"List of The New York Times number-one books of 1986\">1986</a></li>\\n<li><a href=\"/wiki/List_of_The_New_York_Times_number-one_books_of_1987\" title=\"List of The New York Times number-one books of 1987\">1987</a></li>\\n<li><a href=\"/wiki/List_of_The_New_York_Times_number-one_books_of_1988\" title=\"List of The New York Times number-one books of 1988\">1988</a></li>\\n<li><a href=\"/wiki/List_of_The_New_York_Times_number-one_books_of_1989\" title=\"List of The New York Times number-one books of 1989\">1989</a></li>\\n<li><a href=\"/wiki/List_of_The_New_York_Times_number-one_books_of_1990\" title=\"List of The New York Times number-one books of 1990\">1990</a></li>\\n<li><a href=\"/wiki/List_of_The_New_York_Times_number-one_books_of_1991\" title=\"List of The New York Times number-one books of 1991\">1991</a></li>\\n<li><a href=\"/wiki/List_of_The_New_York_Times_number-one_books_of_1992\" title=\"List of The New York Times number-one books of 1992\">1992</a></li>\\n<li><a href=\"/wiki/List_of_The_New_York_Times_number-one_books_of_1993\" title=\"List of The New York Times number-one books of 1993\">1993</a></li>\\n<li><a href=\"/wiki/List_of_The_New_York_Times_number-one_books_of_1994\" title=\"List of The New York Times number-one books of 1994\">1994</a></li>\\n<li><a href=\"/wiki/List_of_The_New_York_Times_number-one_books_of_1995\" title=\"List of The New York Times number-one books of 1995\">1995</a></li>\\n<li><a href=\"/wiki/List_of_The_New_York_Times_number-one_books_of_1996\" title=\"List of The New York Times number-one books of 1996\">1996</a></li>\\n<li><a href=\"/wiki/List_of_The_New_York_Times_number-one_books_of_1997\" title=\"List of The New York Times number-one books of 1997\">1997</a></li>\\n<li><a href=\"/wiki/List_of_The_New_York_Times_number-one_books_of_1998\" title=\"List of The New York Times number-one books of 1998\">1998</a></li>\\n<li><a href=\"/wiki/List_of_The_New_York_Times_number-one_books_of_1999\" title=\"List of The New York Times number-one books of 1999\">1999</a></li>\\n<li><a href=\"/wiki/List_of_The_New_York_Times_number-one_books_of_2000\" title=\"List of The New York Times number-one books of 2000\">2000</a></li>\\n<li><a href=\"/wiki/List_of_The_New_York_Times_number-one_books_of_2001\" title=\"List of The New York Times number-one books of 2001\">2001</a></li>\\n<li><a href=\"/wiki/List_of_The_New_York_Times_number-one_books_of_2002\" title=\"List of The New York Times number-one books of 2002\">2002</a></li>\\n<li><a href=\"/wiki/List_of_The_New_York_Times_number-one_books_of_2003\" title=\"List of The New York Times number-one books of 2003\">2003</a></li>\\n<li><a href=\"/wiki/List_of_The_New_York_Times_number-one_books_of_2004\" title=\"List of The New York Times number-one books of 2004\">2004</a></li>\\n<li><a href=\"/wiki/List_of_The_New_York_Times_number-one_books_of_2005\" title=\"List of The New York Times number-one books of 2005\">2005</a></li>\\n<li><a href=\"/wiki/List_of_The_New_York_Times_number-one_books_of_2006\" title=\"List of The New York Times number-one books of 2006\">2006</a></li>\\n<li><a href=\"/wiki/List_of_The_New_York_Times_number-one_books_of_2007\" title=\"List of The New York Times number-one books of 2007\">2007</a></li>\\n<li><a href=\"/wiki/List_of_The_New_York_Times_number-one_books_of_2008\" title=\"List of The New York Times number-one books of 2008\">2008</a></li>\\n<li><a href=\"/wiki/List_of_The_New_York_Times_number-one_books_of_2009\" title=\"List of The New York Times number-one books of 2009\">2009</a></li>\\n<li><a href=\"/wiki/List_of_The_New_York_Times_number-one_books_of_2010\" title=\"List of The New York Times number-one books of 2010\">2010</a></li>\\n<li><a href=\"/wiki/List_of_The_New_York_Times_number-one_books_of_2011\" title=\"List of The New York Times number-one books of 2011\">2011</a></li>\\n<li><a href=\"/wiki/List_of_The_New_York_Times_number-one_books_of_2012\" title=\"List of The New York Times number-one books of 2012\">2012</a></li>\\n<li><a href=\"/wiki/List_of_The_New_York_Times_number-one_books_of_2013\" title=\"List of The New York Times number-one books of 2013\">2013</a></li>\\n<li><a href=\"/wiki/List_of_The_New_York_Times_number-one_books_of_2014\" title=\"List of The New York Times number-one books of 2014\">2014</a></li>\\n<li><a href=\"/wiki/List_of_The_New_York_Times_number-one_books_of_2015\" title=\"List of The New York Times number-one books of 2015\">2015</a></li>\\n<li><a href=\"/wiki/List_of_The_New_York_Times_number-one_books_of_2016\" title=\"List of The New York Times number-one books of 2016\">2016</a></li>\\n<li><a href=\"/wiki/List_of_The_New_York_Times_number-one_books_of_2017\" title=\"List of The New York Times number-one books of 2017\">2017</a></li>\\n<li><a href=\"/wiki/List_of_The_New_York_Times_number-one_books_of_2018\" title=\"List of The New York Times number-one books of 2018\">2018</a></li>\\n<li><a href=\"/wiki/List_of_The_New_York_Times_number-one_books_of_2019\" title=\"List of The New York Times number-one books of 2019\">2019</a></li>\\n<li><a href=\"/wiki/List_of_The_New_York_Times_number-one_books_of_2020\" title=\"List of The New York Times number-one books of 2020\">2020</a></li>\\n<li><a href=\"/wiki/List_of_The_New_York_Times_number-one_books_of_2021\" title=\"List of The New York Times number-one books of 2021\">2021</a></li>\\n<li><a href=\"/wiki/List_of_The_New_York_Times_number-one_books_of_2022\" title=\"List of The New York Times number-one books of 2022\">2022</a></li>\\n<li><a href=\"/wiki/List_of_The_New_York_Times_number-one_books_of_2023\" title=\"List of The New York Times number-one books of 2023\">2023</a></li>\\n<li><a href=\"/wiki/List_of_The_New_York_Times_number-one_books_of_2024\" title=\"List of The New York Times number-one books of 2024\">2024</a></li></ul>\\n</div>\\n</div>\\n<div class=\"mw-heading mw-heading2\"><h2 id=\"See_also\">See also</h2><span class=\"mw-editsection\"><span class=\"mw-editsection-bracket\">[</span><a href=\"/w/index.php?title=Lists_of_The_New_York_Times_number-one_books&amp;action=edit&amp;section=2\" title=\"Edit section: See also\"><span>edit</span></a><span class=\"mw-editsection-bracket\">]</span></span></div>\\n<style data-mw-deduplicate=\"TemplateStyles:r1239009302\">.mw-parser-output .portalbox{padding:0;margin:0.5em 0;display:table;box-sizing:border-box;max-width:175px;list-style:none}.mw-parser-output .portalborder{border:1px solid var(--border-color-base,#a2a9b1);padding:0.1em;background:var(--background-color-neutral-subtle,#f8f9fa)}.mw-parser-output .portalbox-entry{display:table-row;font-size:85%;line-height:110%;height:1.9em;font-style:italic;font-weight:bold}.mw-parser-output .portalbox-image{display:table-cell;padding:0.2em;vertical-align:middle;text-align:center}.mw-parser-output .portalbox-link{display:table-cell;padding:0.2em 0.2em 0.2em 0.3em;vertical-align:middle}@media(min-width:720px){.mw-parser-output .portalleft{clear:left;float:left;margin:0.5em 1em 0.5em 0}.mw-parser-output .portalright{clear:right;float:right;margin:0.5em 0 0.5em 1em}}</style><ul role=\"navigation\" aria-label=\"Portals\" class=\"noprint portalbox portalborder portalright\">\\n<li class=\"portalbox-entry\"><span class=\"portalbox-image\"><span class=\"noviewer\" typeof=\"mw:File\"><a href=\"/wiki/File:Nuvola_apps_bookcase.svg\" class=\"mw-file-description\"><img alt=\"icon\" src=\"//upload.wikimedia.org/wikipedia/commons/thumb/a/a5/Nuvola_apps_bookcase.svg/28px-Nuvola_apps_bookcase.svg.png\" decoding=\"async\" width=\"28\" height=\"28\" class=\"mw-file-element\" srcset=\"//upload.wikimedia.org/wikipedia/commons/thumb/a/a5/Nuvola_apps_bookcase.svg/42px-Nuvola_apps_bookcase.svg.png 1.5x, //upload.wikimedia.org/wikipedia/commons/thumb/a/a5/Nuvola_apps_bookcase.svg/56px-Nuvola_apps_bookcase.svg.png 2x\" data-file-width=\"128\" data-file-height=\"128\" /></a></span></span><span class=\"portalbox-link\"><a href=\"/wiki/Portal:Books\" title=\"Portal:Books\">Books portal</a></span></li><li class=\"portalbox-entry\"><span class=\"portalbox-image\"><span class=\"noviewer\" typeof=\"mw:File\"><span><img alt=\"\" src=\"//upload.wikimedia.org/wikipedia/commons/thumb/2/20/Text-x-generic.svg/28px-Text-x-generic.svg.png\" decoding=\"async\" width=\"28\" height=\"28\" class=\"mw-file-element\" srcset=\"//upload.wikimedia.org/wikipedia/commons/thumb/2/20/Text-x-generic.svg/42px-Text-x-generic.svg.png 1.5x, //upload.wikimedia.org/wikipedia/commons/thumb/2/20/Text-x-generic.svg/56px-Text-x-generic.svg.png 2x\" data-file-width=\"48\" data-file-height=\"48\" /></span></span></span><span class=\"portalbox-link\"><a href=\"/wiki/Portal:Lists\" class=\"mw-redirect\" title=\"Portal:Lists\">Lists portal</a></span></li></ul>\\n<ul><li><a href=\"/wiki/Books_in_the_United_States\" title=\"Books in the United States\">Books in the United States</a></li>\\n<li><a href=\"/wiki/Publishers_Weekly_lists_of_bestselling_novels_in_the_United_States\" title=\"Publishers Weekly lists of bestselling novels in the United States\"><i>Publishers Weekly</i> lists of bestselling novels in the United States</a></li></ul>\\n<div class=\"mw-heading mw-heading2\"><h2 id=\"References\">References</h2><span class=\"mw-editsection\"><span class=\"mw-editsection-bracket\">[</span><a href=\"/w/index.php?title=Lists_of_The_New_York_Times_number-one_books&amp;action=edit&amp;section=3\" title=\"Edit section: References\"><span>edit</span></a><span class=\"mw-editsection-bracket\">]</span></span></div>\\n<style data-mw-deduplicate=\"TemplateStyles:r1239543626\">.mw-parser-output .reflist{margin-bottom:0.5em;list-style-type:decimal}@media screen{.mw-parser-output .reflist{font-size:90%}}.mw-parser-output .reflist .references{font-size:100%;margin-bottom:0;list-style-type:inherit}.mw-parser-output .reflist-columns-2{column-width:30em}.mw-parser-output .reflist-columns-3{column-width:25em}.mw-parser-output .reflist-columns{margin-top:0.3em}.mw-parser-output .reflist-columns ol{margin-top:0}.mw-parser-output .reflist-columns li{page-break-inside:avoid;break-inside:avoid-column}.mw-parser-output .reflist-upper-alpha{list-style-type:upper-alpha}.mw-parser-output .reflist-upper-roman{list-style-type:upper-roman}.mw-parser-output .reflist-lower-alpha{list-style-type:lower-alpha}.mw-parser-output .reflist-lower-greek{list-style-type:lower-greek}.mw-parser-output .reflist-lower-roman{list-style-type:lower-roman}</style><div class=\"reflist\">\\n<div class=\"mw-references-wrap\"><ol class=\"references\">\\n<li id=\"cite_note-1\"><span class=\"mw-cite-backlink\"><b><a href=\"#cite_ref-1\">^</a></b></span> <span class=\"reference-text\"><i><a href=\"/wiki/The_New_York_Times\" title=\"The New York Times\">The New York Times</a></i>. October 12, 1931. 19</span>\\n</li>\\n<li id=\"cite_note-miller-2\"><span class=\"mw-cite-backlink\">^ <a href=\"#cite_ref-miller_2-0\"><sup><i><b>a</b></i></sup></a> <a href=\"#cite_ref-miller_2-1\"><sup><i><b>b</b></i></sup></a> <a href=\"#cite_ref-miller_2-2\"><sup><i><b>c</b></i></sup></a> <a href=\"#cite_ref-miller_2-3\"><sup><i><b>d</b></i></sup></a> <a href=\"#cite_ref-miller_2-4\"><sup><i><b>e</b></i></sup></a> <a href=\"#cite_ref-miller_2-5\"><sup><i><b>f</b></i></sup></a></span> <span class=\"reference-text\"><style data-mw-deduplicate=\"TemplateStyles:r1238218222\">.mw-parser-output cite.citation{font-style:inherit;word-wrap:break-word}.mw-parser-output .citation q{quotes:\"\\\\\"\"\"\\\\\"\"\"\\'\"\"\\'\"}.mw-parser-output .citation:target{background-color:rgba(0,127,255,0.133)}.mw-parser-output .id-lock-free.id-lock-free a{background:url(\"//upload.wikimedia.org/wikipedia/commons/6/65/Lock-green.svg\")right 0.1em center/9px no-repeat}.mw-parser-output .id-lock-limited.id-lock-limited a,.mw-parser-output .id-lock-registration.id-lock-registration a{background:url(\"//upload.wikimedia.org/wikipedia/commons/d/d6/Lock-gray-alt-2.svg\")right 0.1em center/9px no-repeat}.mw-parser-output .id-lock-subscription.id-lock-subscription a{background:url(\"//upload.wikimedia.org/wikipedia/commons/a/aa/Lock-red-alt-2.svg\")right 0.1em center/9px no-repeat}.mw-parser-output .cs1-ws-icon a{background:url(\"//upload.wikimedia.org/wikipedia/commons/4/4c/Wikisource-logo.svg\")right 0.1em center/12px no-repeat}body:not(.skin-timeless):not(.skin-minerva) .mw-parser-output .id-lock-free a,body:not(.skin-timeless):not(.skin-minerva) .mw-parser-output .id-lock-limited a,body:not(.skin-timeless):not(.skin-minerva) .mw-parser-output .id-lock-registration a,body:not(.skin-timeless):not(.skin-minerva) .mw-parser-output .id-lock-subscription a,body:not(.skin-timeless):not(.skin-minerva) .mw-parser-output .cs1-ws-icon a{background-size:contain;padding:0 1em 0 0}.mw-parser-output .cs1-code{color:inherit;background:inherit;border:none;padding:inherit}.mw-parser-output .cs1-hidden-error{display:none;color:var(--color-error,#d33)}.mw-parser-output .cs1-visible-error{color:var(--color-error,#d33)}.mw-parser-output .cs1-maint{display:none;color:#085;margin-left:0.3em}.mw-parser-output .cs1-kern-left{padding-left:0.2em}.mw-parser-output .cs1-kern-right{padding-right:0.2em}.mw-parser-output .citation .mw-selflink{font-weight:inherit}@media screen{.mw-parser-output .cs1-format{font-size:95%}html.skin-theme-clientpref-night .mw-parser-output .cs1-maint{color:#18911f}}@media screen and (prefers-color-scheme:dark){html.skin-theme-clientpref-os .mw-parser-output .cs1-maint{color:#18911f}}</style><cite id=\"CITEREFMiller,_Laura_J.2000\" class=\"citation book cs1 cs1-prop-long-vol\">Miller, Laura J. (2000). <a rel=\"nofollow\" class=\"external text\" href=\"https://books.google.com/books?id=PEZkkbohbtoC&amp;pg=PA290\">\"The Best-Seller List as Marketing Tool and Historical Fiction\"</a>. In Ezra Greenspan (ed.). <i><a href=\"/wiki/Book_History_(journal)\" class=\"mw-redirect\" title=\"Book History (journal)\">Book History</a></i>. Vol.&#160;Three. <a href=\"/wiki/Penn_State_University_Press\" title=\"Penn State University Press\">Penn State University Press</a>. pp.&#160;286\\xe2\\x80\\x93304. <a href=\"/wiki/ISBN_(identifier)\" class=\"mw-redirect\" title=\"ISBN (identifier)\">ISBN</a>&#160;<a href=\"/wiki/Special:BookSources/0271020504\" title=\"Special:BookSources/0271020504\"><bdi>0271020504</bdi></a>.</cite><span title=\"ctx_ver=Z39.88-2004&amp;rft_val_fmt=info%3Aofi%2Ffmt%3Akev%3Amtx%3Abook&amp;rft.genre=bookitem&amp;rft.atitle=The+Best-Seller+List+as+Marketing+Tool+and+Historical+Fiction&amp;rft.btitle=Book+History&amp;rft.pages=286-304&amp;rft.pub=Penn+State+University+Press&amp;rft.date=2000&amp;rft.isbn=0271020504&amp;rft.au=Miller%2C+Laura+J.&amp;rft_id=https%3A%2F%2Fbooks.google.com%2Fbooks%3Fid%3DPEZkkbohbtoC%26pg%3DPA290&amp;rfr_id=info%3Asid%2Fen.wikipedia.org%3ALists+of+The+New+York+Times+number-one+books\" class=\"Z3988\"></span></span>\\n</li>\\n<li id=\"cite_note-3\"><span class=\"mw-cite-backlink\"><b><a href=\"#cite_ref-3\">^</a></b></span> <span class=\"reference-text\">\\n\"The New York Times Book Review Best Sellers\", NYT January 1, 1984, page BR28.\\n<br />\"Best Sellers\", NYT December 25, 1983, page BR13.</span>\\n</li>\\n</ol></div></div>\\n<div class=\"navbox-styles\"><style data-mw-deduplicate=\"TemplateStyles:r1129693374\">.mw-parser-output .hlist dl,.mw-parser-output .hlist ol,.mw-parser-output .hlist ul{margin:0;padding:0}.mw-parser-output .hlist dd,.mw-parser-output .hlist dt,.mw-parser-output .hlist li{margin:0;display:inline}.mw-parser-output .hlist.inline,.mw-parser-output .hlist.inline dl,.mw-parser-output .hlist.inline ol,.mw-parser-output .hlist.inline ul,.mw-parser-output .hlist dl dl,.mw-parser-output .hlist dl ol,.mw-parser-output .hlist dl ul,.mw-parser-output .hlist ol dl,.mw-parser-output .hlist ol ol,.mw-parser-output .hlist ol ul,.mw-parser-output .hlist ul dl,.mw-parser-output .hlist ul ol,.mw-parser-output .hlist ul ul{display:inline}.mw-parser-output .hlist .mw-empty-li{display:none}.mw-parser-output .hlist dt::after{content:\": \"}.mw-parser-output .hlist dd::after,.mw-parser-output .hlist li::after{content:\" \\xc2\\xb7 \";font-weight:bold}.mw-parser-output .hlist dd:last-child::after,.mw-parser-output .hlist dt:last-child::after,.mw-parser-output .hlist li:last-child::after{content:none}.mw-parser-output .hlist dd dd:first-child::before,.mw-parser-output .hlist dd dt:first-child::before,.mw-parser-output .hlist dd li:first-child::before,.mw-parser-output .hlist dt dd:first-child::before,.mw-parser-output .hlist dt dt:first-child::before,.mw-parser-output .hlist dt li:first-child::before,.mw-parser-output .hlist li dd:first-child::before,.mw-parser-output .hlist li dt:first-child::before,.mw-parser-output .hlist li li:first-child::before{content:\" (\";font-weight:normal}.mw-parser-output .hlist dd dd:last-child::after,.mw-parser-output .hlist dd dt:last-child::after,.mw-parser-output .hlist dd li:last-child::after,.mw-parser-output .hlist dt dd:last-child::after,.mw-parser-output .hlist dt dt:last-child::after,.mw-parser-output .hlist dt li:last-child::after,.mw-parser-output .hlist li dd:last-child::after,.mw-parser-output .hlist li dt:last-child::after,.mw-parser-output .hlist li li:last-child::after{content:\")\";font-weight:normal}.mw-parser-output .hlist ol{counter-reset:listitem}.mw-parser-output .hlist ol>li{counter-increment:listitem}.mw-parser-output .hlist ol>li::before{content:\" \"counter(listitem)\"\\\\a0 \"}.mw-parser-output .hlist dd ol>li:first-child::before,.mw-parser-output .hlist dt ol>li:first-child::before,.mw-parser-output .hlist li ol>li:first-child::before{content:\" (\"counter(listitem)\"\\\\a0 \"}</style><style data-mw-deduplicate=\"TemplateStyles:r1236075235\">.mw-parser-output .navbox{box-sizing:border-box;border:1px solid #a2a9b1;width:100%;clear:both;font-size:88%;text-align:center;padding:1px;margin:1em auto 0}.mw-parser-output .navbox .navbox{margin-top:0}.mw-parser-output .navbox+.navbox,.mw-parser-output .navbox+.navbox-styles+.navbox{margin-top:-1px}.mw-parser-output .navbox-inner,.mw-parser-output .navbox-subgroup{width:100%}.mw-parser-output .navbox-group,.mw-parser-output .navbox-title,.mw-parser-output .navbox-abovebelow{padding:0.25em 1em;line-height:1.5em;text-align:center}.mw-parser-output .navbox-group{white-space:nowrap;text-align:right}.mw-parser-output .navbox,.mw-parser-output .navbox-subgroup{background-color:#fdfdfd}.mw-parser-output .navbox-list{line-height:1.5em;border-color:#fdfdfd}.mw-parser-output .navbox-list-with-group{text-align:left;border-left-width:2px;border-left-style:solid}.mw-parser-output tr+tr>.navbox-abovebelow,.mw-parser-output tr+tr>.navbox-group,.mw-parser-output tr+tr>.navbox-image,.mw-parser-output tr+tr>.navbox-list{border-top:2px solid #fdfdfd}.mw-parser-output .navbox-title{background-color:#ccf}.mw-parser-output .navbox-abovebelow,.mw-parser-output .navbox-group,.mw-parser-output .navbox-subgroup .navbox-title{background-color:#ddf}.mw-parser-output .navbox-subgroup .navbox-group,.mw-parser-output .navbox-subgroup .navbox-abovebelow{background-color:#e6e6ff}.mw-parser-output .navbox-even{background-color:#f7f7f7}.mw-parser-output .navbox-odd{background-color:transparent}.mw-parser-output .navbox .hlist td dl,.mw-parser-output .navbox .hlist td ol,.mw-parser-output .navbox .hlist td ul,.mw-parser-output .navbox td.hlist dl,.mw-parser-output .navbox td.hlist ol,.mw-parser-output .navbox td.hlist ul{padding:0.125em 0}.mw-parser-output .navbox .navbar{display:block;font-size:100%}.mw-parser-output .navbox-title .navbar{float:left;text-align:left;margin-right:0.5em}body.skin--responsive .mw-parser-output .navbox-image img{max-width:none!important}@media print{body.ns-0 .mw-parser-output .navbox{display:none!important}}</style></div><div role=\"navigation\" class=\"navbox\" aria-labelledby=\"List_of_The_New_York_Times_number-one_books\" style=\"padding:3px\"><table class=\"nowraplinks mw-collapsible mw-collapsed navbox-inner\" style=\"border-spacing:0;background:transparent;color:inherit\"><tbody><tr><th scope=\"col\" class=\"navbox-title\" colspan=\"2\"><link rel=\"mw-deduplicated-inline-style\" href=\"mw-data:TemplateStyles:r1129693374\"><style data-mw-deduplicate=\"TemplateStyles:r1239400231\">.mw-parser-output .navbar{display:inline;font-size:88%;font-weight:normal}.mw-parser-output .navbar-collapse{float:left;text-align:left}.mw-parser-output .navbar-boxtext{word-spacing:0}.mw-parser-output .navbar ul{display:inline-block;white-space:nowrap;line-height:inherit}.mw-parser-output .navbar-brackets::before{margin-right:-0.125em;content:\"[ \"}.mw-parser-output .navbar-brackets::after{margin-left:-0.125em;content:\" ]\"}.mw-parser-output .navbar li{word-spacing:-0.125em}.mw-parser-output .navbar a>span,.mw-parser-output .navbar a>abbr{text-decoration:inherit}.mw-parser-output .navbar-mini abbr{font-variant:small-caps;border-bottom:none;text-decoration:none;cursor:inherit}.mw-parser-output .navbar-ct-full{font-size:114%;margin:0 7em}.mw-parser-output .navbar-ct-mini{font-size:114%;margin:0 4em}html.skin-theme-clientpref-night .mw-parser-output .navbar li a abbr{color:var(--color-base)!important}@media(prefers-color-scheme:dark){html.skin-theme-clientpref-os .mw-parser-output .navbar li a abbr{color:var(--color-base)!important}}@media print{.mw-parser-output .navbar{display:none!important}}</style><div class=\"navbar plainlinks hlist navbar-mini\"><ul><li class=\"nv-view\"><a href=\"/wiki/Template:NYT_number-one_books\" title=\"Template:NYT number-one books\"><abbr title=\"View this template\">v</abbr></a></li><li class=\"nv-talk\"><a href=\"/wiki/Template_talk:NYT_number-one_books\" title=\"Template talk:NYT number-one books\"><abbr title=\"Discuss this template\">t</abbr></a></li><li class=\"nv-edit\"><a href=\"/wiki/Special:EditPage/Template:NYT_number-one_books\" title=\"Special:EditPage/Template:NYT number-one books\"><abbr title=\"Edit this template\">e</abbr></a></li></ul></div><div id=\"List_of_The_New_York_Times_number-one_books\" style=\"font-size:114%;margin:0 4em\"><a class=\"mw-selflink selflink\">List of <i>The New York Times</i> number-one books</a></div></th></tr><tr><th scope=\"row\" class=\"navbox-group\" style=\"width:1%\">1931\\xe2\\x80\\x931950</th><td class=\"navbox-list-with-group navbox-list navbox-odd hlist\" style=\"width:100%;padding:0\"><div style=\"padding:0 0.25em\">\\n<ul><li><a href=\"/wiki/List_of_The_New_York_Times_number-one_books_of_1931\" title=\"List of The New York Times number-one books of 1931\">1931</a></li>\\n<li><a href=\"/wiki/List_of_The_New_York_Times_number-one_books_of_1932\" title=\"List of The New York Times number-one books of 1932\">1932</a></li>\\n<li><a href=\"/wiki/List_of_The_New_York_Times_number-one_books_of_1933\" title=\"List of The New York Times number-one books of 1933\">1933</a></li>\\n<li><a href=\"/wiki/List_of_The_New_York_Times_number-one_books_of_1934\" title=\"List of The New York Times number-one books of 1934\">1934</a></li>\\n<li><a href=\"/wiki/List_of_The_New_York_Times_number-one_books_of_1935\" title=\"List of The New York Times number-one books of 1935\">1935</a></li>\\n<li><a href=\"/wiki/List_of_The_New_York_Times_number-one_books_of_1936\" title=\"List of The New York Times number-one books of 1936\">1936</a></li>\\n<li><a href=\"/wiki/List_of_The_New_York_Times_number-one_books_of_1937\" title=\"List of The New York Times number-one books of 1937\">1937</a></li>\\n<li><a href=\"/wiki/List_of_The_New_York_Times_number-one_books_of_1938\" title=\"List of The New York Times number-one books of 1938\">1938</a></li>\\n<li><a href=\"/wiki/List_of_The_New_York_Times_number-one_books_of_1939\" title=\"List of The New York Times number-one books of 1939\">1939</a></li>\\n<li><a href=\"/wiki/List_of_The_New_York_Times_number-one_books_of_1940\" title=\"List of The New York Times number-one books of 1940\">1940</a></li>\\n<li><a href=\"/wiki/List_of_The_New_York_Times_number-one_books_of_1941\" title=\"List of The New York Times number-one books of 1941\">1941</a></li>\\n<li><a href=\"/wiki/List_of_The_New_York_Times_number-one_books_of_1942\" title=\"List of The New York Times number-one books of 1942\">1942</a></li>\\n<li><a href=\"/wiki/List_of_The_New_York_Times_number-one_books_of_1943\" title=\"List of The New York Times number-one books of 1943\">1943</a></li>\\n<li><a href=\"/wiki/List_of_The_New_York_Times_number-one_books_of_1944\" title=\"List of The New York Times number-one books of 1944\">1944</a></li>\\n<li><a href=\"/wiki/List_of_The_New_York_Times_number-one_books_of_1945\" title=\"List of The New York Times number-one books of 1945\">1945</a></li>\\n<li><a href=\"/wiki/List_of_The_New_York_Times_number-one_books_of_1946\" title=\"List of The New York Times number-one books of 1946\">1946</a></li>\\n<li><a href=\"/wiki/List_of_The_New_York_Times_number-one_books_of_1947\" title=\"List of The New York Times number-one books of 1947\">1947</a></li>\\n<li><a href=\"/wiki/List_of_The_New_York_Times_number-one_books_of_1948\" title=\"List of The New York Times number-one books of 1948\">1948</a></li>\\n<li><a href=\"/wiki/List_of_The_New_York_Times_number-one_books_of_1949\" title=\"List of The New York Times number-one books of 1949\">1949</a></li>\\n<li><a href=\"/wiki/List_of_The_New_York_Times_number-one_books_of_1950\" title=\"List of The New York Times number-one books of 1950\">1950</a></li></ul>\\n</div></td></tr><tr><th scope=\"row\" class=\"navbox-group\" style=\"width:1%\">1951\\xe2\\x80\\x931970</th><td class=\"navbox-list-with-group navbox-list navbox-even hlist\" style=\"width:100%;padding:0\"><div style=\"padding:0 0.25em\">\\n<ul><li><a href=\"/wiki/List_of_The_New_York_Times_number-one_books_of_1951\" title=\"List of The New York Times number-one books of 1951\">1951</a></li>\\n<li><a href=\"/wiki/List_of_The_New_York_Times_number-one_books_of_1952\" title=\"List of The New York Times number-one books of 1952\">1952</a></li>\\n<li><a href=\"/wiki/List_of_The_New_York_Times_number-one_books_of_1953\" title=\"List of The New York Times number-one books of 1953\">1953</a></li>\\n<li><a href=\"/wiki/List_of_The_New_York_Times_number-one_books_of_1954\" title=\"List of The New York Times number-one books of 1954\">1954</a></li>\\n<li><a href=\"/wiki/List_of_The_New_York_Times_number-one_books_of_1955\" title=\"List of The New York Times number-one books of 1955\">1955</a></li>\\n<li><a href=\"/wiki/List_of_The_New_York_Times_number-one_books_of_1956\" title=\"List of The New York Times number-one books of 1956\">1956</a></li>\\n<li><a href=\"/wiki/List_of_The_New_York_Times_number-one_books_of_1957\" title=\"List of The New York Times number-one books of 1957\">1957</a></li>\\n<li><a href=\"/wiki/List_of_The_New_York_Times_number-one_books_of_1958\" title=\"List of The New York Times number-one books of 1958\">1958</a></li>\\n<li><a href=\"/wiki/List_of_The_New_York_Times_number-one_books_of_1959\" title=\"List of The New York Times number-one books of 1959\">1959</a></li>\\n<li><a href=\"/wiki/List_of_The_New_York_Times_number-one_books_of_1960\" title=\"List of The New York Times number-one books of 1960\">1960</a></li>\\n<li><a href=\"/wiki/List_of_The_New_York_Times_number-one_books_of_1961\" title=\"List of The New York Times number-one books of 1961\">1961</a></li>\\n<li><a href=\"/wiki/List_of_The_New_York_Times_number-one_books_of_1962\" title=\"List of The New York Times number-one books of 1962\">1962</a></li>\\n<li><a href=\"/wiki/List_of_The_New_York_Times_number-one_books_of_1963\" title=\"List of The New York Times number-one books of 1963\">1963</a></li>\\n<li><a href=\"/wiki/List_of_The_New_York_Times_number-one_books_of_1964\" title=\"List of The New York Times number-one books of 1964\">1964</a></li>\\n<li><a href=\"/wiki/List_of_The_New_York_Times_number-one_books_of_1965\" title=\"List of The New York Times number-one books of 1965\">1965</a></li>\\n<li><a href=\"/wiki/List_of_The_New_York_Times_number-one_books_of_1966\" title=\"List of The New York Times number-one books of 1966\">1966</a></li>\\n<li><a href=\"/wiki/List_of_The_New_York_Times_number-one_books_of_1967\" title=\"List of The New York Times number-one books of 1967\">1967</a></li>\\n<li><a href=\"/wiki/List_of_The_New_York_Times_number-one_books_of_1968\" title=\"List of The New York Times number-one books of 1968\">1968</a></li>\\n<li><a href=\"/wiki/List_of_The_New_York_Times_number-one_books_of_1969\" title=\"List of The New York Times number-one books of 1969\">1969</a></li>\\n<li><a href=\"/wiki/List_of_The_New_York_Times_number-one_books_of_1970\" title=\"List of The New York Times number-one books of 1970\">1970</a></li></ul>\\n</div></td></tr><tr><th scope=\"row\" class=\"navbox-group\" style=\"width:1%\">1971\\xe2\\x80\\x931990</th><td class=\"navbox-list-with-group navbox-list navbox-odd hlist\" style=\"width:100%;padding:0\"><div style=\"padding:0 0.25em\">\\n<ul><li><a href=\"/wiki/List_of_The_New_York_Times_number-one_books_of_1971\" title=\"List of The New York Times number-one books of 1971\">1971</a></li>\\n<li><a href=\"/wiki/List_of_The_New_York_Times_number-one_books_of_1972\" title=\"List of The New York Times number-one books of 1972\">1972</a></li>\\n<li><a href=\"/wiki/List_of_The_New_York_Times_number-one_books_of_1973\" title=\"List of The New York Times number-one books of 1973\">1973</a></li>\\n<li><a href=\"/wiki/List_of_The_New_York_Times_number-one_books_of_1974\" title=\"List of The New York Times number-one books of 1974\">1974</a></li>\\n<li><a href=\"/wiki/List_of_The_New_York_Times_number-one_books_of_1975\" title=\"List of The New York Times number-one books of 1975\">1975</a></li>\\n<li><a href=\"/wiki/List_of_The_New_York_Times_number-one_books_of_1976\" title=\"List of The New York Times number-one books of 1976\">1976</a></li>\\n<li><a href=\"/wiki/List_of_The_New_York_Times_number-one_books_of_1977\" title=\"List of The New York Times number-one books of 1977\">1977</a></li>\\n<li><a href=\"/wiki/List_of_The_New_York_Times_number-one_books_of_1978\" title=\"List of The New York Times number-one books of 1978\">1978</a></li>\\n<li><a href=\"/wiki/List_of_The_New_York_Times_number-one_books_of_1979\" title=\"List of The New York Times number-one books of 1979\">1979</a></li>\\n<li><a href=\"/wiki/List_of_The_New_York_Times_number-one_books_of_1980\" title=\"List of The New York Times number-one books of 1980\">1980</a></li>\\n<li><a href=\"/wiki/List_of_The_New_York_Times_number-one_books_of_1981\" title=\"List of The New York Times number-one books of 1981\">1981</a></li>\\n<li><a href=\"/wiki/List_of_The_New_York_Times_number-one_books_of_1982\" title=\"List of The New York Times number-one books of 1982\">1982</a></li>\\n<li><a href=\"/wiki/List_of_The_New_York_Times_number-one_books_of_1983\" title=\"List of The New York Times number-one books of 1983\">1983</a></li>\\n<li><a href=\"/wiki/List_of_The_New_York_Times_number-one_books_of_1984\" title=\"List of The New York Times number-one books of 1984\">1984</a></li>\\n<li><a href=\"/wiki/List_of_The_New_York_Times_number-one_books_of_1985\" title=\"List of The New York Times number-one books of 1985\">1985</a></li>\\n<li><a href=\"/wiki/List_of_The_New_York_Times_number-one_books_of_1986\" title=\"List of The New York Times number-one books of 1986\">1986</a></li>\\n<li><a href=\"/wiki/List_of_The_New_York_Times_number-one_books_of_1987\" title=\"List of The New York Times number-one books of 1987\">1987</a></li>\\n<li><a href=\"/wiki/List_of_The_New_York_Times_number-one_books_of_1988\" title=\"List of The New York Times number-one books of 1988\">1988</a></li>\\n<li><a href=\"/wiki/List_of_The_New_York_Times_number-one_books_of_1989\" title=\"List of The New York Times number-one books of 1989\">1989</a></li>\\n<li><a href=\"/wiki/List_of_The_New_York_Times_number-one_books_of_1990\" title=\"List of The New York Times number-one books of 1990\">1990</a></li></ul>\\n</div></td></tr><tr><th scope=\"row\" class=\"navbox-group\" style=\"width:1%\">1991-2010</th><td class=\"navbox-list-with-group navbox-list navbox-even hlist\" style=\"width:100%;padding:0\"><div style=\"padding:0 0.25em\">\\n<ul><li><a href=\"/wiki/List_of_The_New_York_Times_number-one_books_of_1991\" title=\"List of The New York Times number-one books of 1991\">1991</a></li>\\n<li><a href=\"/wiki/List_of_The_New_York_Times_number-one_books_of_1992\" title=\"List of The New York Times number-one books of 1992\">1992</a></li>\\n<li><a href=\"/wiki/List_of_The_New_York_Times_number-one_books_of_1993\" title=\"List of The New York Times number-one books of 1993\">1993</a></li>\\n<li><a href=\"/wiki/List_of_The_New_York_Times_number-one_books_of_1994\" title=\"List of The New York Times number-one books of 1994\">1994</a></li>\\n<li><a href=\"/wiki/List_of_The_New_York_Times_number-one_books_of_1995\" title=\"List of The New York Times number-one books of 1995\">1995</a></li>\\n<li><a href=\"/wiki/List_of_The_New_York_Times_number-one_books_of_1996\" title=\"List of The New York Times number-one books of 1996\">1996</a></li>\\n<li><a href=\"/wiki/List_of_The_New_York_Times_number-one_books_of_1997\" title=\"List of The New York Times number-one books of 1997\">1997</a></li>\\n<li><a href=\"/wiki/List_of_The_New_York_Times_number-one_books_of_1998\" title=\"List of The New York Times number-one books of 1998\">1998</a></li>\\n<li><a href=\"/wiki/List_of_The_New_York_Times_number-one_books_of_1999\" title=\"List of The New York Times number-one books of 1999\">1999</a></li>\\n<li><a href=\"/wiki/List_of_The_New_York_Times_number-one_books_of_2000\" title=\"List of The New York Times number-one books of 2000\">2000</a></li>\\n<li><a href=\"/wiki/List_of_The_New_York_Times_number-one_books_of_2001\" title=\"List of The New York Times number-one books of 2001\">2001</a></li>\\n<li><a href=\"/wiki/List_of_The_New_York_Times_number-one_books_of_2002\" title=\"List of The New York Times number-one books of 2002\">2002</a></li>\\n<li><a href=\"/wiki/List_of_The_New_York_Times_number-one_books_of_2003\" title=\"List of The New York Times number-one books of 2003\">2003</a></li>\\n<li><a href=\"/wiki/List_of_The_New_York_Times_number-one_books_of_2004\" title=\"List of The New York Times number-one books of 2004\">2004</a></li>\\n<li><a href=\"/wiki/List_of_The_New_York_Times_number-one_books_of_2005\" title=\"List of The New York Times number-one books of 2005\">2005</a></li>\\n<li><a href=\"/wiki/List_of_The_New_York_Times_number-one_books_of_2006\" title=\"List of The New York Times number-one books of 2006\">2006</a></li>\\n<li><a href=\"/wiki/List_of_The_New_York_Times_number-one_books_of_2007\" title=\"List of The New York Times number-one books of 2007\">2007</a></li>\\n<li><a href=\"/wiki/List_of_The_New_York_Times_number-one_books_of_2008\" title=\"List of The New York Times number-one books of 2008\">2008</a></li>\\n<li><a href=\"/wiki/List_of_The_New_York_Times_number-one_books_of_2009\" title=\"List of The New York Times number-one books of 2009\">2009</a></li>\\n<li><a href=\"/wiki/List_of_The_New_York_Times_number-one_books_of_2010\" title=\"List of The New York Times number-one books of 2010\">2010</a></li></ul>\\n</div></td></tr><tr><th scope=\"row\" class=\"navbox-group\" style=\"width:1%\">2011\\xe2\\x80\\x93present</th><td class=\"navbox-list-with-group navbox-list navbox-odd hlist\" style=\"width:100%;padding:0\"><div style=\"padding:0 0.25em\">\\n<ul><li><a href=\"/wiki/List_of_The_New_York_Times_number-one_books_of_2011\" title=\"List of The New York Times number-one books of 2011\">2011</a></li>\\n<li><a href=\"/wiki/List_of_The_New_York_Times_number-one_books_of_2012\" title=\"List of The New York Times number-one books of 2012\">2012</a></li>\\n<li><a href=\"/wiki/List_of_The_New_York_Times_number-one_books_of_2013\" title=\"List of The New York Times number-one books of 2013\">2013</a></li>\\n<li><a href=\"/wiki/List_of_The_New_York_Times_number-one_books_of_2014\" title=\"List of The New York Times number-one books of 2014\">2014</a></li>\\n<li><a href=\"/wiki/List_of_The_New_York_Times_number-one_books_of_2015\" title=\"List of The New York Times number-one books of 2015\">2015</a></li>\\n<li><a href=\"/wiki/List_of_The_New_York_Times_number-one_books_of_2016\" title=\"List of The New York Times number-one books of 2016\">2016</a></li>\\n<li><a href=\"/wiki/List_of_The_New_York_Times_number-one_books_of_2017\" title=\"List of The New York Times number-one books of 2017\">2017</a></li>\\n<li><a href=\"/wiki/List_of_The_New_York_Times_number-one_books_of_2018\" title=\"List of The New York Times number-one books of 2018\">2018</a></li>\\n<li><a href=\"/wiki/List_of_The_New_York_Times_number-one_books_of_2019\" title=\"List of The New York Times number-one books of 2019\">2019</a></li>\\n<li><a href=\"/wiki/List_of_The_New_York_Times_number-one_books_of_2020\" title=\"List of The New York Times number-one books of 2020\">2020</a></li>\\n<li><a href=\"/wiki/List_of_The_New_York_Times_number-one_books_of_2021\" title=\"List of The New York Times number-one books of 2021\">2021</a></li>\\n<li><a href=\"/wiki/List_of_The_New_York_Times_number-one_books_of_2022\" title=\"List of The New York Times number-one books of 2022\">2022</a></li>\\n<li><a href=\"/wiki/List_of_The_New_York_Times_number-one_books_of_2023\" title=\"List of The New York Times number-one books of 2023\">2023</a></li>\\n<li><a href=\"/wiki/List_of_The_New_York_Times_number-one_books_of_2024\" title=\"List of The New York Times number-one books of 2024\">2024</a></li></ul>\\n</div></td></tr></tbody></table></div>\\n<div class=\"navbox-styles\"><link rel=\"mw-deduplicated-inline-style\" href=\"mw-data:TemplateStyles:r1129693374\"><link rel=\"mw-deduplicated-inline-style\" href=\"mw-data:TemplateStyles:r1236075235\"></div><div role=\"navigation\" class=\"navbox\" aria-labelledby=\"Books\" style=\"padding:3px\"><table class=\"nowraplinks hlist mw-collapsible autocollapse navbox-inner\" style=\"border-spacing:0;background:transparent;color:inherit\"><tbody><tr><th scope=\"col\" class=\"navbox-title\" colspan=\"2\"><link rel=\"mw-deduplicated-inline-style\" href=\"mw-data:TemplateStyles:r1129693374\"><link rel=\"mw-deduplicated-inline-style\" href=\"mw-data:TemplateStyles:r1239400231\"><div class=\"navbar plainlinks hlist navbar-mini\"><ul><li class=\"nv-view\"><a href=\"/wiki/Template:Books\" title=\"Template:Books\"><abbr title=\"View this template\">v</abbr></a></li><li class=\"nv-talk\"><a href=\"/wiki/Template_talk:Books\" title=\"Template talk:Books\"><abbr title=\"Discuss this template\">t</abbr></a></li><li class=\"nv-edit\"><a href=\"/wiki/Special:EditPage/Template:Books\" title=\"Special:EditPage/Template:Books\"><abbr title=\"Edit this template\">e</abbr></a></li></ul></div><div id=\"Books\" style=\"font-size:114%;margin:0 4em\"><a href=\"/wiki/Book\" title=\"Book\">Books</a></div></th></tr><tr><th scope=\"row\" class=\"navbox-group\" style=\"width:1%\">Production</th><td class=\"navbox-list-with-group navbox-list navbox-odd\" style=\"width:100%;padding:0\"><div style=\"padding:0 0.25em\">\\n<ul><li><a href=\"/wiki/Bookbinding\" title=\"Bookbinding\">Binding</a></li>\\n<li><a href=\"/wiki/Book_cover\" title=\"Book cover\">Covers</a>\\n<ul><li><a href=\"/wiki/Dust_jacket\" title=\"Dust jacket\">dust jackets</a></li></ul></li>\\n<li><a href=\"/wiki/Book_design\" title=\"Book design\">Design</a></li>\\n<li><a href=\"/wiki/Editing\" title=\"Editing\">Editing</a></li>\\n<li><a href=\"/wiki/Book_illustration\" title=\"Book illustration\">Illustration</a>\\n<ul><li><a href=\"/wiki/Illuminated_manuscript\" title=\"Illuminated manuscript\">Illuminated manuscripts</a></li></ul></li>\\n<li><a href=\"/wiki/Printing\" title=\"Printing\">Printing</a>\\n<ul><li><a href=\"/wiki/Edition_(book)\" title=\"Edition (book)\">edition</a></li>\\n<li><a href=\"/wiki/History_of_printing\" title=\"History of printing\">history</a></li>\\n<li><a href=\"/wiki/Incunable\" title=\"Incunable\">incunabula</a></li>\\n<li><a href=\"/wiki/Instant_book\" title=\"Instant book\">instant book</a></li>\\n<li><a href=\"/wiki/Limited-edition_book\" class=\"mw-redirect\" title=\"Limited-edition book\">limited edition</a></li></ul></li>\\n<li><a href=\"/wiki/Publishing\" title=\"Publishing\">Publishing</a>\\n<ul><li><a href=\"/wiki/Advance_copy\" title=\"Advance copy\">advance copy</a></li>\\n<li><a href=\"/wiki/Hardcover\" title=\"Hardcover\">hardcover</a></li>\\n<li><a href=\"/wiki/Paperback\" title=\"Paperback\">paperback</a></li></ul></li>\\n<li><a href=\"/wiki/Book_size\" title=\"Book size\">Size</a></li>\\n<li><a href=\"/wiki/Typesetting\" title=\"Typesetting\">Typesetting</a></li>\\n<li><a href=\"/wiki/Volume_(bibliography)\" title=\"Volume (bibliography)\">Volume (bibliography)</a></li>\\n<li><a href=\"/wiki/Collection_(publishing)\" title=\"Collection (publishing)\">Collection (publishing)</a></li>\\n<li><a href=\"/wiki/Book_series\" title=\"Book series\">Book series</a></li></ul>\\n</div></td></tr><tr><th scope=\"row\" class=\"navbox-group\" style=\"width:1%\">Consumption</th><td class=\"navbox-list-with-group navbox-list navbox-even\" style=\"width:100%;padding:0\"><div style=\"padding:0 0.25em\">\\n<ul><li><a href=\"/wiki/Literary_award\" title=\"Literary award\">Awards</a></li>\\n<li><a href=\"/wiki/Bestseller\" title=\"Bestseller\">Bestsellers</a>\\n<ul><li><a href=\"/wiki/List_of_best-selling_books\" title=\"List of best-selling books\">list</a></li></ul></li>\\n<li><a href=\"/wiki/Bibliography\" title=\"Bibliography\">Bibliography</a></li>\\n<li><a href=\"/wiki/Bibliomania\" title=\"Bibliomania\">Bibliomania</a> (<a href=\"/wiki/Tsundoku\" title=\"Tsundoku\">tsundoku</a>)</li>\\n<li><a href=\"/wiki/Bibliophilia\" title=\"Bibliophilia\">Bibliophilia</a></li>\\n<li><a href=\"/wiki/Bibliotherapy\" title=\"Bibliotherapy\">Bibliotherapy</a></li>\\n<li><a href=\"/wiki/Bookmark\" title=\"Bookmark\">Bookmarks</a></li>\\n<li><a href=\"/wiki/Bookselling\" title=\"Bookselling\">Bookselling</a>\\n<ul><li><a href=\"/wiki/Blurb\" title=\"Blurb\">blurbs</a></li>\\n<li><a href=\"/wiki/Book_town\" title=\"Book town\">book towns</a></li>\\n<li><a href=\"/wiki/History_of_bookselling\" title=\"History of bookselling\">history</a></li>\\n<li><a href=\"/wiki/Used_book\" title=\"Used book\">used</a></li></ul></li>\\n<li><a href=\"/wiki/Book_censorship\" title=\"Book censorship\">Censorship</a></li>\\n<li><a href=\"/wiki/Book_discussion_club\" title=\"Book discussion club\">Clubs</a></li>\\n<li><a href=\"/wiki/Book_collecting\" title=\"Book collecting\">Collecting</a></li>\\n<li><a href=\"/wiki/Book_scanning\" title=\"Book scanning\">Digitizing</a></li>\\n<li><a href=\"/wiki/Bookworm_(insect)\" title=\"Bookworm (insect)\">Bookworm (insect)</a></li>\\n<li>Furniture\\n<ul><li><a href=\"/wiki/Bookcase\" title=\"Bookcase\">bookcases</a></li>\\n<li><a href=\"/wiki/Bookend\" title=\"Bookend\">bookends</a></li></ul></li>\\n<li><a href=\"/wiki/Library\" title=\"Library\">Library</a></li>\\n<li><a href=\"/wiki/Print_culture\" title=\"Print culture\">Print culture</a></li>\\n<li><a href=\"/wiki/Reading\" title=\"Reading\">Reading</a>\\n<ul><li><a href=\"/wiki/Literacy\" title=\"Literacy\">literacy</a></li></ul></li>\\n<li><a href=\"/wiki/Book_review\" title=\"Book review\">Reviews</a></li></ul>\\n</div></td></tr><tr><th scope=\"row\" class=\"navbox-group\" style=\"width:1%\">By country</th><td class=\"navbox-list-with-group navbox-list navbox-odd\" style=\"width:100%;padding:0\"><div style=\"padding:0 0.25em\">\\n<ul><li><a href=\"/wiki/Books_in_Brazil\" title=\"Books in Brazil\">Brazil</a></li>\\n<li><a href=\"/wiki/Books_in_France\" title=\"Books in France\">France</a></li>\\n<li><a href=\"/wiki/Books_in_Germany\" title=\"Books in Germany\">Germany</a></li>\\n<li><a href=\"/wiki/Books_in_Italy\" title=\"Books in Italy\">Italy</a></li>\\n<li><a href=\"/wiki/Was%C5%8Dbon\" title=\"Was\\xc5\\x8dbon\">Japan</a></li>\\n<li><a href=\"/wiki/Books_in_the_Netherlands\" title=\"Books in the Netherlands\">Netherlands</a></li>\\n<li><a href=\"/wiki/Books_and_publishing_in_Pakistan\" class=\"mw-redirect\" title=\"Books and publishing in Pakistan\">Pakistan</a></li>\\n<li><a href=\"/wiki/Books_in_Spain\" title=\"Books in Spain\">Spain</a></li>\\n<li><a href=\"/wiki/Books_in_the_United_Kingdom\" title=\"Books in the United Kingdom\">United Kingdom</a></li>\\n<li><a href=\"/wiki/Books_in_the_United_States\" title=\"Books in the United States\">United States</a></li></ul>\\n</div></td></tr><tr><th scope=\"row\" class=\"navbox-group\" style=\"width:1%\">Other</th><td class=\"navbox-list-with-group navbox-list navbox-even\" style=\"width:100%;padding:0\"><div style=\"padding:0 0.25em\">\\n<ul><li>Genres\\n<ul><li><a href=\"/wiki/Fictional_book\" title=\"Fictional book\">fictional</a></li>\\n<li><a href=\"/wiki/Miniature_book\" title=\"Miniature book\">miniature</a></li>\\n<li><a href=\"/wiki/Pop-up_book\" title=\"Pop-up book\">pop-up</a></li>\\n<li><a href=\"/wiki/Textbook\" title=\"Textbook\">textbook</a></li></ul></li>\\n<li><a href=\"/wiki/Grimoire\" title=\"Grimoire\">Grimoire</a></li>\\n<li>Formats\\n<ul><li><a href=\"/wiki/Audiobook\" title=\"Audiobook\">audiobooks</a></li>\\n<li><a href=\"/wiki/Ebook\" title=\"Ebook\">Ebooks</a></li>\\n<li><a href=\"/wiki/Folio\" title=\"Folio\">Folio</a></li></ul></li>\\n<li><a href=\"/wiki/Coffee_table_book\" title=\"Coffee table book\">Coffee table book</a></li></ul>\\n</div></td></tr><tr><th scope=\"row\" class=\"navbox-group\" style=\"width:1%\">Related</th><td class=\"navbox-list-with-group navbox-list navbox-odd\" style=\"width:100%;padding:0\"><div style=\"padding:0 0.25em\">\\n<ul><li><a href=\"/wiki/Lists_of_banned_books\" title=\"Lists of banned books\">Banned books</a></li>\\n<li><a href=\"/wiki/Book_burning\" title=\"Book burning\">Book burning</a>\\n<ul><li><a href=\"/wiki/List_of_book-burning_incidents\" title=\"List of book-burning incidents\">incidents</a></li>\\n<li><a href=\"/wiki/Nazi_book_burnings\" title=\"Nazi book burnings\">Nazi</a></li></ul></li>\\n<li><a href=\"/wiki/Book_curse\" title=\"Book curse\">Book curses</a></li>\\n<li><a href=\"/wiki/Book_packaging\" title=\"Book packaging\">Book packaging</a></li>\\n<li><a href=\"/wiki/Book_swapping\" title=\"Book swapping\">Book swapping</a></li>\\n<li><a href=\"/wiki/Book_tour\" title=\"Book tour\">Book tour</a></li>\\n<li><a href=\"/wiki/Conservation_and_restoration_of_books,_manuscripts,_documents_and_ephemera\" class=\"mw-redirect\" title=\"Conservation and restoration of books, manuscripts, documents and ephemera\">Conservation and restoration</a></li>\\n<li><a href=\"/wiki/Dog_ears\" title=\"Dog ears\">Dog ears</a></li>\\n<li><a href=\"/wiki/History_of_books\" title=\"History of books\">History of books</a>\\n<ul><li><a href=\"/wiki/Scroll\" title=\"Scroll\">scroll</a></li>\\n<li><a href=\"/wiki/Codex\" title=\"Codex\">codex</a></li></ul></li>\\n<li><a href=\"/wiki/Intellectual_property\" title=\"Intellectual property\">Intellectual property</a></li>\\n<li><a href=\"/wiki/ISBN\" title=\"ISBN\">ISBN</a></li>\\n<li><a href=\"/wiki/Novel\" title=\"Novel\">Novel</a></li>\\n<li><a href=\"/wiki/Outline_of_books\" title=\"Outline of books\">Outline</a></li>\\n<li><a href=\"/wiki/Preservation_(library_and_archive)\" title=\"Preservation (library and archive)\">Preservation</a></li>\\n<li><i><a href=\"/wiki/The_Philobiblon\" title=\"The Philobiblon\">The Philobiblon</a></i></li>\\n<li><a href=\"/wiki/World_Book_Day\" title=\"World Book Day\">World Book Day</a></li>\\n<li><a href=\"/wiki/World_Book_Capital\" title=\"World Book Capital\">World Book Capital</a></li></ul>\\n</div></td></tr><tr><td class=\"navbox-abovebelow\" colspan=\"2\"><div>\\n<ul><li><span class=\"noviewer\" typeof=\"mw:File\"><span title=\"Outline\"><img alt=\"\" src=\"//upload.wikimedia.org/wikipedia/commons/thumb/4/41/Global_thinking.svg/10px-Global_thinking.svg.png\" decoding=\"async\" width=\"10\" height=\"16\" class=\"mw-file-element\" srcset=\"//upload.wikimedia.org/wikipedia/commons/thumb/4/41/Global_thinking.svg/15px-Global_thinking.svg.png 1.5x, //upload.wikimedia.org/wikipedia/commons/thumb/4/41/Global_thinking.svg/21px-Global_thinking.svg.png 2x\" data-file-width=\"130\" data-file-height=\"200\" /></span></span> <a href=\"/wiki/Outline_of_books\" title=\"Outline of books\">Outline</a></li>\\n<li><span class=\"noviewer\" typeof=\"mw:File\"><span title=\"Category\"><img alt=\"\" src=\"//upload.wikimedia.org/wikipedia/en/thumb/9/96/Symbol_category_class.svg/16px-Symbol_category_class.svg.png\" decoding=\"async\" width=\"16\" height=\"16\" class=\"mw-file-element\" srcset=\"//upload.wikimedia.org/wikipedia/en/thumb/9/96/Symbol_category_class.svg/23px-Symbol_category_class.svg.png 1.5x, //upload.wikimedia.org/wikipedia/en/thumb/9/96/Symbol_category_class.svg/31px-Symbol_category_class.svg.png 2x\" data-file-width=\"180\" data-file-height=\"185\" /></span></span> <a href=\"/wiki/Category:Books\" title=\"Category:Books\">Category</a></li>\\n<li><span class=\"noviewer\" typeof=\"mw:File\"><a href=\"/wiki/File:Symbol_portal_class.svg\" class=\"mw-file-description\" title=\"Portal\"><img alt=\"\" src=\"//upload.wikimedia.org/wikipedia/en/thumb/e/e2/Symbol_portal_class.svg/16px-Symbol_portal_class.svg.png\" decoding=\"async\" width=\"16\" height=\"16\" class=\"mw-file-element\" srcset=\"//upload.wikimedia.org/wikipedia/en/thumb/e/e2/Symbol_portal_class.svg/23px-Symbol_portal_class.svg.png 1.5x, //upload.wikimedia.org/wikipedia/en/thumb/e/e2/Symbol_portal_class.svg/31px-Symbol_portal_class.svg.png 2x\" data-file-width=\"180\" data-file-height=\"185\" /></a></span> <a href=\"/wiki/Portal:Books\" title=\"Portal:Books\">Portal</a></li></ul>\\n</div></td></tr></tbody></table></div></div>'"
      ]
     },
     "execution_count": 28,
     "metadata": {},
     "output_type": "execute_result"
    }
   ],
   "source": [
    "html"
   ]
  },
  {
   "cell_type": "code",
   "execution_count": 11,
   "id": "bd72e22d",
   "metadata": {},
   "outputs": [
    {
     "name": "stdout",
     "output_type": "stream",
     "text": [
      "                    vteBooks                                                                                                                                                                                                                                                                        vteBooks.1\n",
      "0                 Production           Binding Covers dust jackets Design Editing Illustration Illuminated manuscripts Printing edition history incunabula instant book limited edition Publishing advance copy hardcover paperback Size Typesetting Volume (bibliography) Collection (publishing) Book series\n",
      "1                Consumption  Awards Bestsellers list Bibliography Bibliomania (tsundoku) Bibliophilia Bibliotherapy Bookmarks Bookselling blurbs book towns history used Censorship Clubs Collecting Digitizing Bookworm (insect) Furniture bookcases bookends Library Print culture Reading literacy Reviews\n",
      "2                 By country                                                                                                                                                                                         Brazil France Germany Italy Japan Netherlands Pakistan Spain United Kingdom United States\n",
      "3                      Other                                                                                                                                                                             Genres fictional miniature pop-up textbook Grimoire Formats audiobooks Ebooks Folio Coffee table book\n",
      "4                    Related           Banned books Book burning incidents Nazi Book curses Book packaging Book swapping Book tour Conservation and restoration Dog ears History of books scroll codex Intellectual property ISBN Novel Outline Preservation The Philobiblon World Book Day World Book Capital\n",
      "5  Outline  Category  Portal                                                                                                                                                                                                                                                         Outline  Category  Portal\n"
     ]
    }
   ],
   "source": [
    "try: \n",
    "    df = pd.read_html(html)[1]  # Try 2nd table first as most pages contain contents table first\n",
    "except IndexError:\n",
    "    df = pd.read_html(html)[0]\n",
    "print(df.to_string())"
   ]
  },
  {
   "cell_type": "code",
   "execution_count": 65,
   "id": "2b41ed5c",
   "metadata": {},
   "outputs": [],
   "source": [
    "urlHead = 'https://en.wikipedia.org/wiki/List_of_The_New_York_Times_number-one_books_of_'\n",
    "year = list(range(1973, 2024))\n",
    "urls = [urlHead + str(x) for x in year]"
   ]
  },
  {
   "cell_type": "code",
   "execution_count": 66,
   "id": "2f235211",
   "metadata": {
    "scrolled": true
   },
   "outputs": [
    {
     "data": {
      "text/plain": [
       "'https://en.wikipedia.org/wiki/List_of_The_New_York_Times_number-one_books_of_1973'"
      ]
     },
     "execution_count": 66,
     "metadata": {},
     "output_type": "execute_result"
    }
   ],
   "source": [
    "urls[0]"
   ]
  },
  {
   "cell_type": "code",
   "execution_count": 74,
   "id": "d5de1cba",
   "metadata": {},
   "outputs": [],
   "source": [
    "df = pd.read_html(\"https://en.wikipedia.org/wiki/List_of_The_New_York_Times_number-one_books_of_2011\") "
   ]
  },
  {
   "cell_type": "code",
   "execution_count": null,
   "id": "d8f03198",
   "metadata": {},
   "outputs": [],
   "source": []
  },
  {
   "cell_type": "code",
   "execution_count": 75,
   "id": "b211cf7c",
   "metadata": {},
   "outputs": [
    {
     "data": {
      "text/plain": [
       "[            Date                                   Book  \\\n",
       " 0      January 2                          Dead or Alive   \n",
       " 1      January 9                          Dead or Alive   \n",
       " 2     January 16                   What the Night Knows   \n",
       " 3     January 23  The Girl Who Kicked the Hornets' Nest   \n",
       " 4     January 30                       The Inner Circle   \n",
       " 5     February 6                            Shadowfever   \n",
       " 6    February 13                              Tick Tock   \n",
       " 7    February 20                              Tick Tock   \n",
       " 8    February 27                              Tick Tock   \n",
       " 9        March 6                              Tick Tock   \n",
       " 10      March 13                     Treachery in Death   \n",
       " 11      March 20                    The Wise Man's Fear   \n",
       " 12      March 27                             The Jungle   \n",
       " 13       April 3                                   Toys   \n",
       " 14      April 10                              Live Wire   \n",
       " 15      April 17              The Land of Painted Caves   \n",
       " 16      April 24                      The Fifth Witness   \n",
       " 17         May 1                           Chasing Fire   \n",
       " 18         May 8                          The Sixth Man   \n",
       " 19        May 15                          The Sixth Man   \n",
       " 20        May 22                         Dead Reckoning   \n",
       " 21        May 29                         Dead Reckoning   \n",
       " 22        June 5                         Dead Reckoning   \n",
       " 23       June 12                         Dead Reckoning   \n",
       " 24       June 19                          Dreams of Joy   \n",
       " 25       June 26                               Hit List   \n",
       " 26        July 3                    Against All Enemies   \n",
       " 27       July 10                      Smokin' Seventeen   \n",
       " 28       July 17                        Now You See Her   \n",
       " 29       July 24                        Now You See Her   \n",
       " 30       July 31                   A Dance with Dragons   \n",
       " 31      August 7                   A Dance with Dragons   \n",
       " 32     August 14                            Ghost Story   \n",
       " 33     August 21                         Cold Vengeance   \n",
       " 34     August 28                   A Dance with Dragons   \n",
       " 35   September 4                       The Omen Machine   \n",
       " 36  September 11                        Flash and Bones   \n",
       " 37  September 18                     Kill Me If You Can   \n",
       " 38  September 25                     Kill Me If You Can   \n",
       " 39     October 2                     New York to Dallas   \n",
       " 40     October 9                             Heat Rises   \n",
       " 41    October 16                             The Affair   \n",
       " 42    October 23                             Shock Wave   \n",
       " 43    October 30                         The Best of Me   \n",
       " 44    November 6                         The Best of Me   \n",
       " 45   November 13                         The Litigators   \n",
       " 46   November 20                               Zero Day   \n",
       " 47   November 27                               11/22/63   \n",
       " 48    December 4                        Kill Alex Cross   \n",
       " 49   December 11                     Explosive Eighteen   \n",
       " 50   December 18                               The Drop   \n",
       " 51   December 25                               11/22/63   \n",
       " \n",
       "                                   Author  \n",
       " 0        Tom Clancy with Grant Blackwood  \n",
       " 1        Tom Clancy with Grant Blackwood  \n",
       " 2                            Dean Koontz  \n",
       " 3                          Stieg Larsson  \n",
       " 4                           Brad Meltzer  \n",
       " 5                     Karen Marie Moning  \n",
       " 6   James Patterson and Michael Ledwidge  \n",
       " 7   James Patterson and Michael Ledwidge  \n",
       " 8   James Patterson and Michael Ledwidge  \n",
       " 9   James Patterson and Michael Ledwidge  \n",
       " 10                            J. D. Robb  \n",
       " 11                      Patrick Rothfuss  \n",
       " 12       Clive Cussler with Jack Du Brul  \n",
       " 13      James Patterson and Neil McMahon  \n",
       " 14                          Harlan Coben  \n",
       " 15                          Jean M. Auel  \n",
       " 16                      Michael Connelly  \n",
       " 17                          Nora Roberts  \n",
       " 18                        David Baldacci  \n",
       " 19                        David Baldacci  \n",
       " 20                      Charlaine Harris  \n",
       " 21                      Charlaine Harris  \n",
       " 22                      Charlaine Harris  \n",
       " 23                      Charlaine Harris  \n",
       " 24                              Lisa See  \n",
       " 25                   Laurell K. Hamilton  \n",
       " 26           Tom Clancy with Peter Telep  \n",
       " 27                       Janet Evanovich  \n",
       " 28  James Patterson and Michael Ledwidge  \n",
       " 29  James Patterson and Michael Ledwidge  \n",
       " 30                   George R. R. Martin  \n",
       " 31                   George R. R. Martin  \n",
       " 32                           Jim Butcher  \n",
       " 33     Douglas Preston and Lincoln Child  \n",
       " 34                   George R. R. Martin  \n",
       " 35                        Terry Goodkind  \n",
       " 36                          Kathy Reichs  \n",
       " 37     James Patterson and Marshall Karp  \n",
       " 38     James Patterson and Marshall Karp  \n",
       " 39                            J. D. Robb  \n",
       " 40                        Richard Castle  \n",
       " 41                             Lee Child  \n",
       " 42                         John Sandford  \n",
       " 43                       Nicholas Sparks  \n",
       " 44                       Nicholas Sparks  \n",
       " 45                          John Grisham  \n",
       " 46                        David Baldacci  \n",
       " 47                          Stephen King  \n",
       " 48                       James Patterson  \n",
       " 49                       Janet Evanovich  \n",
       " 50                      Michael Connelly  \n",
       " 51                          Stephen King  ,\n",
       "             Date                       Book  \\\n",
       " 0    February 13                  Tick Tock   \n",
       " 1    February 20                  Tick Tock   \n",
       " 2    February 27                  Tick Tock   \n",
       " 3        March 6                      Alone   \n",
       " 4       March 13         Treachery in Death   \n",
       " 5       March 20              Sing You Home   \n",
       " 6       March 27        Water for Elephants   \n",
       " 7        April 3        Water for Elephants   \n",
       " 8       April 10                  Live Wire   \n",
       " 9       April 17  The Land of Painted Caves   \n",
       " 10      April 24          The Fifth Witness   \n",
       " 11         May 1        Water for Elephants   \n",
       " 12         May 8        Water for Elephants   \n",
       " 13        May 15        Water for Elephants   \n",
       " 14        May 22             Dead Reckoning   \n",
       " 15        May 29        Water for Elephants   \n",
       " 16        June 5        Water for Elephants   \n",
       " 17       June 12        Water for Elephants   \n",
       " 18       June 19                   The Help   \n",
       " 19       June 26                   The Help   \n",
       " 20        July 3                   The Help   \n",
       " 21       July 10          Smokin' Seventeen   \n",
       " 22       July 17            Now You See Her   \n",
       " 23       July 24                   The Help   \n",
       " 24       July 31       A Dance with Dragons   \n",
       " 25      August 7                   The Help   \n",
       " 26     August 14                   The Help   \n",
       " 27     August 21                   The Help   \n",
       " 28     August 28                   The Help   \n",
       " 29   September 4                   The Help   \n",
       " 30  September 11                   The Help   \n",
       " 31  September 18                   The Help   \n",
       " 32  September 25                   The Help   \n",
       " 33     October 2                   The Help   \n",
       " 34     October 9                   The Help   \n",
       " 35    October 16                 The Affair   \n",
       " 36    October 23                   The Help   \n",
       " 37    October 30             The Best of Me   \n",
       " 38    November 6             The Best of Me   \n",
       " 39   November 13             The Litigators   \n",
       " 40   November 20                   Zero Day   \n",
       " 41   November 27                   11/22/63   \n",
       " 42    December 4            Kill Alex Cross   \n",
       " 43   December 11         Explosive Eighteen   \n",
       " 44   December 18                   The Drop   \n",
       " 45   December 25                   Red Mist   \n",
       " \n",
       "                                   Author  \n",
       " 0   James Patterson and Michael Ledwidge  \n",
       " 1   James Patterson and Michael Ledwidge  \n",
       " 2   James Patterson and Michael Ledwidge  \n",
       " 3                           Lisa Gardner  \n",
       " 4                             J. D. Robb  \n",
       " 5                           Jodi Picoult  \n",
       " 6                             Sara Gruen  \n",
       " 7                             Sara Gruen  \n",
       " 8                           Harlan Coben  \n",
       " 9                           Jean M. Auel  \n",
       " 10                      Michael Connelly  \n",
       " 11                            Sara Gruen  \n",
       " 12                            Sara Gruen  \n",
       " 13                            Sara Gruen  \n",
       " 14                      Charlaine Harris  \n",
       " 15                            Sara Gruen  \n",
       " 16                            Sara Gruen  \n",
       " 17                            Sara Gruen  \n",
       " 18                      Kathryn Stockett  \n",
       " 19                      Kathryn Stockett  \n",
       " 20                      Kathryn Stockett  \n",
       " 21                       Janet Evanovich  \n",
       " 22  James Patterson and Michael Ledwidge  \n",
       " 23                      Kathryn Stockett  \n",
       " 24                   George R. R. Martin  \n",
       " 25                      Kathryn Stockett  \n",
       " 26                      Kathryn Stockett  \n",
       " 27                      Kathryn Stockett  \n",
       " 28                      Kathryn Stockett  \n",
       " 29                      Kathryn Stockett  \n",
       " 30                      Kathryn Stockett  \n",
       " 31                      Kathryn Stockett  \n",
       " 32                      Kathryn Stockett  \n",
       " 33                      Kathryn Stockett  \n",
       " 34                      Kathryn Stockett  \n",
       " 35                             Lee Child  \n",
       " 36                      Kathryn Stockett  \n",
       " 37                       Nicholas Sparks  \n",
       " 38                       Nicholas Sparks  \n",
       " 39                          John Grisham  \n",
       " 40                        David Baldacci  \n",
       " 41                          Stephen King  \n",
       " 42                       James Patterson  \n",
       " 43                       Janet Evanovich  \n",
       " 44                      Michael Connelly  \n",
       " 45                     Patricia Cornwell  ,\n",
       "             Date                               Book  \\\n",
       " 0      January 2                    Decision Points   \n",
       " 1      January 9                    Decision Points   \n",
       " 2     January 16                           Unbroken   \n",
       " 3     January 23                           Unbroken   \n",
       " 4     January 30                           Unbroken   \n",
       " 5     February 6                           Unbroken   \n",
       " 6    February 13                           Unbroken   \n",
       " 7    February 20                           Unbroken   \n",
       " 8    February 27                  Known and Unknown   \n",
       " 9        March 6                           Unbroken   \n",
       " 10      March 13                           Unbroken   \n",
       " 11      March 20                           Unbroken   \n",
       " 12      March 27                  The Social Animal   \n",
       " 13       April 3                                Red   \n",
       " 14      April 10                           Unbroken   \n",
       " 15      April 17                             Onward   \n",
       " 16      April 24                         Bossypants   \n",
       " 17         May 1                         Bossypants   \n",
       " 18         May 8                         Bossypants   \n",
       " 19        May 15                         Bossypants   \n",
       " 20        May 22                         Bossypants   \n",
       " 21        May 29  Lies That Chelsea Handler Told Me   \n",
       " 22        June 5            In the Garden of Beasts   \n",
       " 23       June 12        Those Guys Have All the Fun   \n",
       " 24       June 19                The Greater Journey   \n",
       " 25       June 26                The Greater Journey   \n",
       " 26        July 3                The Greater Journey   \n",
       " 27       July 10                           Unbroken   \n",
       " 28       July 17                           Unbroken   \n",
       " 29       July 24                           Unbroken   \n",
       " 30       July 31                      A Stolen Life   \n",
       " 31      August 7                      A Stolen Life   \n",
       " 32     August 14                      A Stolen Life   \n",
       " 33     August 21                      A Stolen Life   \n",
       " 34     August 28                      A Stolen Life   \n",
       " 35   September 4                      A Stolen Life   \n",
       " 36  September 11                      A Stolen Life   \n",
       " 37  September 18                         In My Time   \n",
       " 38  September 25                         In My Time   \n",
       " 39     October 2                 Jacqueline Kennedy   \n",
       " 40     October 9                 Jacqueline Kennedy   \n",
       " 41    October 16                    Killing Lincoln   \n",
       " 42    October 23                    Killing Lincoln   \n",
       " 43    October 30                    Killing Lincoln   \n",
       " 44    November 6                    Killing Lincoln   \n",
       " 45   November 13                         Steve Jobs   \n",
       " 46   November 20                         Steve Jobs   \n",
       " 47   November 27                         Steve Jobs   \n",
       " 48    December 4                         Steve Jobs   \n",
       " 49   December 11                         Steve Jobs   \n",
       " 50   December 18                         Steve Jobs   \n",
       " 51   December 25                         Steve Jobs   \n",
       " \n",
       "                                 Author                    Publisher  \n",
       " 0                       George W. Bush                        Crown  \n",
       " 1                       George W. Bush                        Crown  \n",
       " 2                    Laura Hillenbrand                 Random House  \n",
       " 3                    Laura Hillenbrand                 Random House  \n",
       " 4                    Laura Hillenbrand                 Random House  \n",
       " 5                    Laura Hillenbrand                 Random House  \n",
       " 6                    Laura Hillenbrand                 Random House  \n",
       " 7                    Laura Hillenbrand                 Random House  \n",
       " 8                      Donald Rumsfeld                     Sentinel  \n",
       " 9                    Laura Hillenbrand                 Random House  \n",
       " 10                   Laura Hillenbrand                 Random House  \n",
       " 11                   Laura Hillenbrand                 Random House  \n",
       " 12                        David Brooks                 Random House  \n",
       " 13        Sammy Hagar with Joel Selvin       It Books/HarperCollins  \n",
       " 14                   Laura Hillenbrand                 Random House  \n",
       " 15   Howard Schultz with Joanne Gordon                       Rodale  \n",
       " 16                            Tina Fey  Reagan Arthur/Little, Brown  \n",
       " 17                            Tina Fey  Reagan Arthur/Little, Brown  \n",
       " 18                            Tina Fey  Reagan Arthur/Little, Brown  \n",
       " 19                            Tina Fey  Reagan Arthur/Little, Brown  \n",
       " 20                            Tina Fey  Reagan Arthur/Little, Brown  \n",
       " 21                     Chelsea Handler                Grand Central  \n",
       " 22                         Erik Larson                        Crown  \n",
       " 23  James Andrew Miller and Tom Shales                Little, Brown  \n",
       " 24                    David McCullough             Simon & Schuster  \n",
       " 25                    David McCullough             Simon & Schuster  \n",
       " 26                    David McCullough             Simon & Schuster  \n",
       " 27                   Laura Hillenbrand                 Random House  \n",
       " 28                   Laura Hillenbrand                 Random House  \n",
       " 29                   Laura Hillenbrand                 Random House  \n",
       " 30                       Jaycee Dugard             Simon & Schuster  \n",
       " 31                       Jaycee Dugard             Simon & Schuster  \n",
       " 32                       Jaycee Dugard             Simon & Schuster  \n",
       " 33                       Jaycee Dugard             Simon & Schuster  \n",
       " 34                       Jaycee Dugard             Simon & Schuster  \n",
       " 35                       Jaycee Dugard             Simon & Schuster  \n",
       " 36                       Jaycee Dugard             Simon & Schuster  \n",
       " 37                         Dick Cheney           Threshold Editions  \n",
       " 38                         Dick Cheney           Threshold Editions  \n",
       " 39          Jacqueline Kennedy Onassis                     Hyperion  \n",
       " 40          Jacqueline Kennedy Onassis                     Hyperion  \n",
       " 41     Bill O'Reilly and Martin Dugard                         Holt  \n",
       " 42     Bill O'Reilly and Martin Dugard                         Holt  \n",
       " 43     Bill O'Reilly and Martin Dugard                         Holt  \n",
       " 44     Bill O'Reilly and Martin Dugard                         Holt  \n",
       " 45                     Walter Isaacson             Simon & Schuster  \n",
       " 46                     Walter Isaacson             Simon & Schuster  \n",
       " 47                     Walter Isaacson             Simon & Schuster  \n",
       " 48                     Walter Isaacson             Simon & Schuster  \n",
       " 49                     Walter Isaacson             Simon & Schuster  \n",
       " 50                     Walter Isaacson             Simon & Schuster  \n",
       " 51                     Walter Isaacson             Simon & Schuster  ,\n",
       "   .mw-parser-output .navbar{display:inline;font-size:88%;font-weight:normal}.mw-parser-output .navbar-collapse{float:left;text-align:left}.mw-parser-output .navbar-boxtext{word-spacing:0}.mw-parser-output .navbar ul{display:inline-block;white-space:nowrap;line-height:inherit}.mw-parser-output .navbar-brackets::before{margin-right:-0.125em;content:\"[ \"}.mw-parser-output .navbar-brackets::after{margin-left:-0.125em;content:\" ]\"}.mw-parser-output .navbar li{word-spacing:-0.125em}.mw-parser-output .navbar a>span,.mw-parser-output .navbar a>abbr{text-decoration:inherit}.mw-parser-output .navbar-mini abbr{font-variant:small-caps;border-bottom:none;text-decoration:none;cursor:inherit}.mw-parser-output .navbar-ct-full{font-size:114%;margin:0 7em}.mw-parser-output .navbar-ct-mini{font-size:114%;margin:0 4em}html.skin-theme-clientpref-night .mw-parser-output .navbar li a abbr{color:var(--color-base)!important}@media(prefers-color-scheme:dark){html.skin-theme-clientpref-os .mw-parser-output .navbar li a abbr{color:var(--color-base)!important}}@media print{.mw-parser-output .navbar{display:none!important}}vteList of The New York Times number-one books  \\\n",
       " 0                                          1931–1950                                                                                                                                                                                                                                                                                                                                                                                                                                                                                                                                                                                                                                                                                                                                                                                                                                                                                                                                                                                                                                                                                                                                                    \n",
       " 1                                          1951–1970                                                                                                                                                                                                                                                                                                                                                                                                                                                                                                                                                                                                                                                                                                                                                                                                                                                                                                                                                                                                                                                                                                                                                    \n",
       " 2                                          1971–1990                                                                                                                                                                                                                                                                                                                                                                                                                                                                                                                                                                                                                                                                                                                                                                                                                                                                                                                                                                                                                                                                                                                                                    \n",
       " 3                                          1991-2010                                                                                                                                                                                                                                                                                                                                                                                                                                                                                                                                                                                                                                                                                                                                                                                                                                                                                                                                                                                                                                                                                                                                                    \n",
       " 4                                       2011–present                                                                                                                                                                                                                                                                                                                                                                                                                                                                                                                                                                                                                                                                                                                                                                                                                                                                                                                                                                                                                                                                                                                                                    \n",
       " \n",
       "   .mw-parser-output .navbar{display:inline;font-size:88%;font-weight:normal}.mw-parser-output .navbar-collapse{float:left;text-align:left}.mw-parser-output .navbar-boxtext{word-spacing:0}.mw-parser-output .navbar ul{display:inline-block;white-space:nowrap;line-height:inherit}.mw-parser-output .navbar-brackets::before{margin-right:-0.125em;content:\"[ \"}.mw-parser-output .navbar-brackets::after{margin-left:-0.125em;content:\" ]\"}.mw-parser-output .navbar li{word-spacing:-0.125em}.mw-parser-output .navbar a>span,.mw-parser-output .navbar a>abbr{text-decoration:inherit}.mw-parser-output .navbar-mini abbr{font-variant:small-caps;border-bottom:none;text-decoration:none;cursor:inherit}.mw-parser-output .navbar-ct-full{font-size:114%;margin:0 7em}.mw-parser-output .navbar-ct-mini{font-size:114%;margin:0 4em}html.skin-theme-clientpref-night .mw-parser-output .navbar li a abbr{color:var(--color-base)!important}@media(prefers-color-scheme:dark){html.skin-theme-clientpref-os .mw-parser-output .navbar li a abbr{color:var(--color-base)!important}}@media print{.mw-parser-output .navbar{display:none!important}}vteList of The New York Times number-one books.1  \n",
       " 0  1931 1932 1933 1934 1935 1936 1937 1938 1939 1...                                                                                                                                                                                                                                                                                                                                                                                                                                                                                                                                                                                                                                                                                                                                                                                                                                                                                                                                                                                                                                                                                                                                                     \n",
       " 1  1951 1952 1953 1954 1955 1956 1957 1958 1959 1...                                                                                                                                                                                                                                                                                                                                                                                                                                                                                                                                                                                                                                                                                                                                                                                                                                                                                                                                                                                                                                                                                                                                                     \n",
       " 2  1971 1972 1973 1974 1975 1976 1977 1978 1979 1...                                                                                                                                                                                                                                                                                                                                                                                                                                                                                                                                                                                                                                                                                                                                                                                                                                                                                                                                                                                                                                                                                                                                                     \n",
       " 3  1991 1992 1993 1994 1995 1996 1997 1998 1999 2...                                                                                                                                                                                                                                                                                                                                                                                                                                                                                                                                                                                                                                                                                                                                                                                                                                                                                                                                                                                                                                                                                                                                                     \n",
       " 4  2011 2012 2013 2014 2015 2016 2017 2018 2019 2...                                                                                                                                                                                                                                                                                                                                                                                                                                                                                                                                                                                                                                                                                                                                                                                                                                                                                                                                                                                                                                                                                                                                                     ]"
      ]
     },
     "execution_count": 75,
     "metadata": {},
     "output_type": "execute_result"
    }
   ],
   "source": [
    "df"
   ]
  },
  {
   "cell_type": "code",
   "execution_count": 71,
   "id": "d5b5f365",
   "metadata": {},
   "outputs": [
    {
     "data": {
      "text/plain": [
       "3"
      ]
     },
     "execution_count": 71,
     "metadata": {},
     "output_type": "execute_result"
    }
   ],
   "source": [
    "len(df)"
   ]
  },
  {
   "cell_type": "code",
   "execution_count": 72,
   "id": "29633bff",
   "metadata": {},
   "outputs": [
    {
     "name": "stdout",
     "output_type": "stream",
     "text": [
      "2011\n"
     ]
    }
   ],
   "source": [
    "for i in range(len(urls)):\n",
    "    df = pd.read_html(urls[i])\n",
    "    if len(df) != 3:\n",
    "        print(year[i])"
   ]
  },
  {
   "cell_type": "code",
   "execution_count": null,
   "id": "b80619be",
   "metadata": {},
   "outputs": [],
   "source": []
  }
 ],
 "metadata": {
  "kernelspec": {
   "display_name": "Python 3 (ipykernel)",
   "language": "python",
   "name": "python3"
  },
  "language_info": {
   "codemirror_mode": {
    "name": "ipython",
    "version": 3
   },
   "file_extension": ".py",
   "mimetype": "text/x-python",
   "name": "python",
   "nbconvert_exporter": "python",
   "pygments_lexer": "ipython3",
   "version": "3.10.12"
  }
 },
 "nbformat": 4,
 "nbformat_minor": 5
}
